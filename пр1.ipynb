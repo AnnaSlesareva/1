{
  "nbformat": 4,
  "nbformat_minor": 0,
  "metadata": {
    "colab": {
      "name": "пр1",
      "provenance": [],
      "authorship_tag": "ABX9TyODEC9/u4CKyKk+BpiTRq8R",
      "include_colab_link": true
    },
    "kernelspec": {
      "name": "python3",
      "display_name": "Python 3"
    }
  },
  "cells": [
    {
      "cell_type": "markdown",
      "metadata": {
        "id": "view-in-github",
        "colab_type": "text"
      },
      "source": [
        "<a href=\"https://colab.research.google.com/github/AnnaSlesareva/1/blob/main/%D0%BF%D1%801.ipynb\" target=\"_parent\"><img src=\"https://colab.research.google.com/assets/colab-badge.svg\" alt=\"Open In Colab\"/></a>"
      ]
    },
    {
      "cell_type": "markdown",
      "metadata": {
        "id": "8wRJC_K3jRJk"
      },
      "source": [
        "Слесарева Анна Михайловна КИ19-22б"
      ]
    },
    {
      "cell_type": "code",
      "metadata": {
        "colab": {
          "base_uri": "https://localhost:8080/"
        },
        "id": "0Bf2wfhAjYzV",
        "outputId": "ae6b5da8-6ea8-4bd5-c6fe-b3cecd5d4c5c"
      },
      "source": [
        "print(\"Привет, мир!!!\")"
      ],
      "execution_count": null,
      "outputs": [
        {
          "output_type": "stream",
          "text": [
            "Привет, мир!!!\n"
          ],
          "name": "stdout"
        }
      ]
    }
  ]
}