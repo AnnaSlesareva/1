{
  "nbformat": 4,
  "nbformat_minor": 0,
  "metadata": {
    "colab": {
      "name": "lab1anna",
      "provenance": [],
      "collapsed_sections": [],
      "include_colab_link": true
    },
    "kernelspec": {
      "name": "python3",
      "display_name": "Python 3"
    },
    "language_info": {
      "name": "python"
    },
    "widgets": {
      "application/vnd.jupyter.widget-state+json": {
        "3ddb53555b304de88ee8aa368198ad92": {
          "model_module": "@jupyter-widgets/controls",
          "model_name": "IntSliderModel",
          "state": {
            "_view_name": "IntSliderView",
            "style": "IPY_MODEL_e43796927b8c4dcf8fb4667431091c89",
            "_dom_classes": [],
            "description": "",
            "step": 1,
            "_model_name": "IntSliderModel",
            "orientation": "horizontal",
            "max": 100,
            "_view_module": "@jupyter-widgets/controls",
            "_model_module_version": "1.5.0",
            "value": 19,
            "_view_count": null,
            "disabled": false,
            "_view_module_version": "1.5.0",
            "min": 0,
            "continuous_update": true,
            "readout_format": "d",
            "description_tooltip": null,
            "readout": true,
            "_model_module": "@jupyter-widgets/controls",
            "layout": "IPY_MODEL_a7455a3688ab46b1bc0f1f65b25855af"
          }
        },
        "e43796927b8c4dcf8fb4667431091c89": {
          "model_module": "@jupyter-widgets/controls",
          "model_name": "SliderStyleModel",
          "state": {
            "_view_name": "StyleView",
            "handle_color": null,
            "_model_name": "SliderStyleModel",
            "description_width": "",
            "_view_module": "@jupyter-widgets/base",
            "_model_module_version": "1.5.0",
            "_view_count": null,
            "_view_module_version": "1.2.0",
            "_model_module": "@jupyter-widgets/controls"
          }
        },
        "a7455a3688ab46b1bc0f1f65b25855af": {
          "model_module": "@jupyter-widgets/base",
          "model_name": "LayoutModel",
          "state": {
            "_view_name": "LayoutView",
            "grid_template_rows": null,
            "right": null,
            "justify_content": null,
            "_view_module": "@jupyter-widgets/base",
            "overflow": null,
            "_model_module_version": "1.2.0",
            "_view_count": null,
            "flex_flow": null,
            "width": null,
            "min_width": null,
            "border": null,
            "align_items": null,
            "bottom": null,
            "_model_module": "@jupyter-widgets/base",
            "top": null,
            "grid_column": null,
            "overflow_y": null,
            "overflow_x": null,
            "grid_auto_flow": null,
            "grid_area": null,
            "grid_template_columns": null,
            "flex": null,
            "_model_name": "LayoutModel",
            "justify_items": null,
            "grid_row": null,
            "max_height": null,
            "align_content": null,
            "visibility": null,
            "align_self": null,
            "height": null,
            "min_height": null,
            "padding": null,
            "grid_auto_rows": null,
            "grid_gap": null,
            "max_width": null,
            "order": null,
            "_view_module_version": "1.2.0",
            "grid_template_areas": null,
            "object_position": null,
            "object_fit": null,
            "grid_auto_columns": null,
            "margin": null,
            "display": null,
            "left": null
          }
        },
        "25f88fff51f346649b95e1c0c90dc99a": {
          "model_module": "@jupyter-widgets/controls",
          "model_name": "TextModel",
          "state": {
            "_view_name": "TextView",
            "style": "IPY_MODEL_60c0d8401c4e47d98e40ea7d32506d1a",
            "_dom_classes": [],
            "description": "",
            "_model_name": "TextModel",
            "placeholder": "​",
            "_view_module": "@jupyter-widgets/controls",
            "_model_module_version": "1.5.0",
            "value": "Anna",
            "_view_count": null,
            "disabled": false,
            "_view_module_version": "1.5.0",
            "continuous_update": true,
            "description_tooltip": null,
            "_model_module": "@jupyter-widgets/controls",
            "layout": "IPY_MODEL_6a120ec154ab45df96b7ff4d4ae0a626"
          }
        },
        "60c0d8401c4e47d98e40ea7d32506d1a": {
          "model_module": "@jupyter-widgets/controls",
          "model_name": "DescriptionStyleModel",
          "state": {
            "_view_name": "StyleView",
            "_model_name": "DescriptionStyleModel",
            "description_width": "",
            "_view_module": "@jupyter-widgets/base",
            "_model_module_version": "1.5.0",
            "_view_count": null,
            "_view_module_version": "1.2.0",
            "_model_module": "@jupyter-widgets/controls"
          }
        },
        "6a120ec154ab45df96b7ff4d4ae0a626": {
          "model_module": "@jupyter-widgets/base",
          "model_name": "LayoutModel",
          "state": {
            "_view_name": "LayoutView",
            "grid_template_rows": null,
            "right": null,
            "justify_content": null,
            "_view_module": "@jupyter-widgets/base",
            "overflow": null,
            "_model_module_version": "1.2.0",
            "_view_count": null,
            "flex_flow": null,
            "width": null,
            "min_width": null,
            "border": null,
            "align_items": null,
            "bottom": null,
            "_model_module": "@jupyter-widgets/base",
            "top": null,
            "grid_column": null,
            "overflow_y": null,
            "overflow_x": null,
            "grid_auto_flow": null,
            "grid_area": null,
            "grid_template_columns": null,
            "flex": null,
            "_model_name": "LayoutModel",
            "justify_items": null,
            "grid_row": null,
            "max_height": null,
            "align_content": null,
            "visibility": null,
            "align_self": null,
            "height": null,
            "min_height": null,
            "padding": null,
            "grid_auto_rows": null,
            "grid_gap": null,
            "max_width": null,
            "order": null,
            "_view_module_version": "1.2.0",
            "grid_template_areas": null,
            "object_position": null,
            "object_fit": null,
            "grid_auto_columns": null,
            "margin": null,
            "display": null,
            "left": null
          }
        },
        "249f254dad6d4a36827bfb53e1df9b9d": {
          "model_module": "@jupyter-widgets/controls",
          "model_name": "IntProgressModel",
          "state": {
            "_view_name": "ProgressView",
            "style": "IPY_MODEL_ee98e692c0de4a1b993cec2177cc4d2b",
            "_dom_classes": [],
            "description": "Loading: ",
            "_model_name": "IntProgressModel",
            "bar_style": "",
            "max": 100,
            "_view_module": "@jupyter-widgets/controls",
            "_model_module_version": "1.5.0",
            "value": 100,
            "_view_count": null,
            "_view_module_version": "1.5.0",
            "orientation": "horizontal",
            "min": 1,
            "description_tooltip": null,
            "_model_module": "@jupyter-widgets/controls",
            "layout": "IPY_MODEL_a1f48c3fc3b44072adaebe54089859e4"
          }
        },
        "ee98e692c0de4a1b993cec2177cc4d2b": {
          "model_module": "@jupyter-widgets/controls",
          "model_name": "ProgressStyleModel",
          "state": {
            "_view_name": "StyleView",
            "_model_name": "ProgressStyleModel",
            "description_width": "",
            "_view_module": "@jupyter-widgets/base",
            "_model_module_version": "1.5.0",
            "_view_count": null,
            "_view_module_version": "1.2.0",
            "bar_color": null,
            "_model_module": "@jupyter-widgets/controls"
          }
        },
        "a1f48c3fc3b44072adaebe54089859e4": {
          "model_module": "@jupyter-widgets/base",
          "model_name": "LayoutModel",
          "state": {
            "_view_name": "LayoutView",
            "grid_template_rows": null,
            "right": null,
            "justify_content": null,
            "_view_module": "@jupyter-widgets/base",
            "overflow": null,
            "_model_module_version": "1.2.0",
            "_view_count": null,
            "flex_flow": null,
            "width": null,
            "min_width": null,
            "border": null,
            "align_items": null,
            "bottom": null,
            "_model_module": "@jupyter-widgets/base",
            "top": null,
            "grid_column": null,
            "overflow_y": null,
            "overflow_x": null,
            "grid_auto_flow": null,
            "grid_area": null,
            "grid_template_columns": null,
            "flex": null,
            "_model_name": "LayoutModel",
            "justify_items": null,
            "grid_row": null,
            "max_height": null,
            "align_content": null,
            "visibility": null,
            "align_self": null,
            "height": null,
            "min_height": null,
            "padding": null,
            "grid_auto_rows": null,
            "grid_gap": null,
            "max_width": null,
            "order": null,
            "_view_module_version": "1.2.0",
            "grid_template_areas": null,
            "object_position": null,
            "object_fit": null,
            "grid_auto_columns": null,
            "margin": null,
            "display": null,
            "left": null
          }
        },
        "e35435131aa045a7a129ed46c94d56a6": {
          "model_module": "@jupyter-widgets/controls",
          "model_name": "ButtonModel",
          "state": {
            "_view_name": "ButtonView",
            "style": "IPY_MODEL_088bef0815b44dfb9a5f1ccfddcc9785",
            "_dom_classes": [],
            "description": "Кнопка!",
            "_model_name": "ButtonModel",
            "button_style": "",
            "_view_module": "@jupyter-widgets/controls",
            "_model_module_version": "1.5.0",
            "tooltip": "",
            "_view_count": null,
            "disabled": false,
            "_view_module_version": "1.5.0",
            "layout": "IPY_MODEL_2b36a87aaa9447e588f688f7bd4d68c4",
            "_model_module": "@jupyter-widgets/controls",
            "icon": ""
          }
        },
        "088bef0815b44dfb9a5f1ccfddcc9785": {
          "model_module": "@jupyter-widgets/controls",
          "model_name": "ButtonStyleModel",
          "state": {
            "_view_name": "StyleView",
            "_model_name": "ButtonStyleModel",
            "_view_module": "@jupyter-widgets/base",
            "_model_module_version": "1.5.0",
            "_view_count": null,
            "button_color": null,
            "font_weight": "",
            "_view_module_version": "1.2.0",
            "_model_module": "@jupyter-widgets/controls"
          }
        },
        "2b36a87aaa9447e588f688f7bd4d68c4": {
          "model_module": "@jupyter-widgets/base",
          "model_name": "LayoutModel",
          "state": {
            "_view_name": "LayoutView",
            "grid_template_rows": null,
            "right": null,
            "justify_content": null,
            "_view_module": "@jupyter-widgets/base",
            "overflow": null,
            "_model_module_version": "1.2.0",
            "_view_count": null,
            "flex_flow": null,
            "width": null,
            "min_width": null,
            "border": null,
            "align_items": null,
            "bottom": null,
            "_model_module": "@jupyter-widgets/base",
            "top": null,
            "grid_column": null,
            "overflow_y": null,
            "overflow_x": null,
            "grid_auto_flow": null,
            "grid_area": null,
            "grid_template_columns": null,
            "flex": null,
            "_model_name": "LayoutModel",
            "justify_items": null,
            "grid_row": null,
            "max_height": null,
            "align_content": null,
            "visibility": null,
            "align_self": null,
            "height": null,
            "min_height": null,
            "padding": null,
            "grid_auto_rows": null,
            "grid_gap": null,
            "max_width": null,
            "order": null,
            "_view_module_version": "1.2.0",
            "grid_template_areas": null,
            "object_position": null,
            "object_fit": null,
            "grid_auto_columns": null,
            "margin": null,
            "display": null,
            "left": null
          }
        },
        "99b8266af96e41bf86f60b1398443d38": {
          "model_module": "@jupyter-widgets/output",
          "model_name": "OutputModel",
          "state": {
            "_view_name": "OutputView",
            "msg_id": "",
            "_dom_classes": [],
            "_model_name": "OutputModel",
            "outputs": [
              {
                "output_type": "stream",
                "metadata": {
                  "tags": []
                },
                "text": "Button clicked (msq1).\nButton clicked (msq2).\n",
                "stream": "stdout"
              }
            ],
            "_view_module": "@jupyter-widgets/output",
            "_model_module_version": "1.0.0",
            "_view_count": null,
            "_view_module_version": "1.0.0",
            "layout": "IPY_MODEL_95469be3db0d40e3b706c0350ddb0589",
            "_model_module": "@jupyter-widgets/output"
          }
        },
        "95469be3db0d40e3b706c0350ddb0589": {
          "model_module": "@jupyter-widgets/base",
          "model_name": "LayoutModel",
          "state": {
            "_view_name": "LayoutView",
            "grid_template_rows": null,
            "right": null,
            "justify_content": null,
            "_view_module": "@jupyter-widgets/base",
            "overflow": null,
            "_model_module_version": "1.2.0",
            "_view_count": null,
            "flex_flow": null,
            "width": null,
            "min_width": null,
            "border": null,
            "align_items": null,
            "bottom": null,
            "_model_module": "@jupyter-widgets/base",
            "top": null,
            "grid_column": null,
            "overflow_y": null,
            "overflow_x": null,
            "grid_auto_flow": null,
            "grid_area": null,
            "grid_template_columns": null,
            "flex": null,
            "_model_name": "LayoutModel",
            "justify_items": null,
            "grid_row": null,
            "max_height": null,
            "align_content": null,
            "visibility": null,
            "align_self": null,
            "height": null,
            "min_height": null,
            "padding": null,
            "grid_auto_rows": null,
            "grid_gap": null,
            "max_width": null,
            "order": null,
            "_view_module_version": "1.2.0",
            "grid_template_areas": null,
            "object_position": null,
            "object_fit": null,
            "grid_auto_columns": null,
            "margin": null,
            "display": null,
            "left": null
          }
        },
        "9cb62c71fbbe4b91af6a8744bc2e1584": {
          "model_module": "@jupyter-widgets/controls",
          "model_name": "VBoxModel",
          "state": {
            "_view_name": "VBoxView",
            "_dom_classes": [
              "widget-interact"
            ],
            "_model_name": "VBoxModel",
            "_view_module": "@jupyter-widgets/controls",
            "_model_module_version": "1.5.0",
            "_view_count": null,
            "_view_module_version": "1.5.0",
            "box_style": "",
            "layout": "IPY_MODEL_cdca377921a4426983b660d0db073767",
            "_model_module": "@jupyter-widgets/controls",
            "children": [
              "IPY_MODEL_4fbfce2e97734b259a66d2994bed6167",
              "IPY_MODEL_5b909e43c5dd41b9b9d7ffcbc67d69ca"
            ]
          }
        },
        "cdca377921a4426983b660d0db073767": {
          "model_module": "@jupyter-widgets/base",
          "model_name": "LayoutModel",
          "state": {
            "_view_name": "LayoutView",
            "grid_template_rows": null,
            "right": null,
            "justify_content": null,
            "_view_module": "@jupyter-widgets/base",
            "overflow": null,
            "_model_module_version": "1.2.0",
            "_view_count": null,
            "flex_flow": null,
            "width": null,
            "min_width": null,
            "border": null,
            "align_items": null,
            "bottom": null,
            "_model_module": "@jupyter-widgets/base",
            "top": null,
            "grid_column": null,
            "overflow_y": null,
            "overflow_x": null,
            "grid_auto_flow": null,
            "grid_area": null,
            "grid_template_columns": null,
            "flex": null,
            "_model_name": "LayoutModel",
            "justify_items": null,
            "grid_row": null,
            "max_height": null,
            "align_content": null,
            "visibility": null,
            "align_self": null,
            "height": null,
            "min_height": null,
            "padding": null,
            "grid_auto_rows": null,
            "grid_gap": null,
            "max_width": null,
            "order": null,
            "_view_module_version": "1.2.0",
            "grid_template_areas": null,
            "object_position": null,
            "object_fit": null,
            "grid_auto_columns": null,
            "margin": null,
            "display": null,
            "left": null
          }
        },
        "4fbfce2e97734b259a66d2994bed6167": {
          "model_module": "@jupyter-widgets/controls",
          "model_name": "DropdownModel",
          "state": {
            "_options_labels": [
              "Мария",
              "Анна",
              "Павел"
            ],
            "_view_name": "DropdownView",
            "style": "IPY_MODEL_10456d3e271546ac8b3a1013afc2757d",
            "_dom_classes": [],
            "description": "name",
            "_model_name": "DropdownModel",
            "index": 1,
            "_view_module": "@jupyter-widgets/controls",
            "_model_module_version": "1.5.0",
            "_view_count": null,
            "disabled": false,
            "_view_module_version": "1.5.0",
            "description_tooltip": null,
            "_model_module": "@jupyter-widgets/controls",
            "layout": "IPY_MODEL_c14574b1160848fdb3732297bb5f9957"
          }
        },
        "5b909e43c5dd41b9b9d7ffcbc67d69ca": {
          "model_module": "@jupyter-widgets/output",
          "model_name": "OutputModel",
          "state": {
            "_view_name": "OutputView",
            "msg_id": "",
            "_dom_classes": [],
            "_model_name": "OutputModel",
            "outputs": [
              {
                "output_type": "stream",
                "metadata": {
                  "tags": []
                },
                "text": "My name is Анна\n",
                "stream": "stdout"
              }
            ],
            "_view_module": "@jupyter-widgets/output",
            "_model_module_version": "1.0.0",
            "_view_count": null,
            "_view_module_version": "1.0.0",
            "layout": "IPY_MODEL_2fe27edf0f9c4d41b2548de635c51e7a",
            "_model_module": "@jupyter-widgets/output"
          }
        },
        "10456d3e271546ac8b3a1013afc2757d": {
          "model_module": "@jupyter-widgets/controls",
          "model_name": "DescriptionStyleModel",
          "state": {
            "_view_name": "StyleView",
            "_model_name": "DescriptionStyleModel",
            "description_width": "",
            "_view_module": "@jupyter-widgets/base",
            "_model_module_version": "1.5.0",
            "_view_count": null,
            "_view_module_version": "1.2.0",
            "_model_module": "@jupyter-widgets/controls"
          }
        },
        "c14574b1160848fdb3732297bb5f9957": {
          "model_module": "@jupyter-widgets/base",
          "model_name": "LayoutModel",
          "state": {
            "_view_name": "LayoutView",
            "grid_template_rows": null,
            "right": null,
            "justify_content": null,
            "_view_module": "@jupyter-widgets/base",
            "overflow": null,
            "_model_module_version": "1.2.0",
            "_view_count": null,
            "flex_flow": null,
            "width": null,
            "min_width": null,
            "border": null,
            "align_items": null,
            "bottom": null,
            "_model_module": "@jupyter-widgets/base",
            "top": null,
            "grid_column": null,
            "overflow_y": null,
            "overflow_x": null,
            "grid_auto_flow": null,
            "grid_area": null,
            "grid_template_columns": null,
            "flex": null,
            "_model_name": "LayoutModel",
            "justify_items": null,
            "grid_row": null,
            "max_height": null,
            "align_content": null,
            "visibility": null,
            "align_self": null,
            "height": null,
            "min_height": null,
            "padding": null,
            "grid_auto_rows": null,
            "grid_gap": null,
            "max_width": null,
            "order": null,
            "_view_module_version": "1.2.0",
            "grid_template_areas": null,
            "object_position": null,
            "object_fit": null,
            "grid_auto_columns": null,
            "margin": null,
            "display": null,
            "left": null
          }
        },
        "2fe27edf0f9c4d41b2548de635c51e7a": {
          "model_module": "@jupyter-widgets/base",
          "model_name": "LayoutModel",
          "state": {
            "_view_name": "LayoutView",
            "grid_template_rows": null,
            "right": null,
            "justify_content": null,
            "_view_module": "@jupyter-widgets/base",
            "overflow": null,
            "_model_module_version": "1.2.0",
            "_view_count": null,
            "flex_flow": null,
            "width": null,
            "min_width": null,
            "border": null,
            "align_items": null,
            "bottom": null,
            "_model_module": "@jupyter-widgets/base",
            "top": null,
            "grid_column": null,
            "overflow_y": null,
            "overflow_x": null,
            "grid_auto_flow": null,
            "grid_area": null,
            "grid_template_columns": null,
            "flex": null,
            "_model_name": "LayoutModel",
            "justify_items": null,
            "grid_row": null,
            "max_height": null,
            "align_content": null,
            "visibility": null,
            "align_self": null,
            "height": null,
            "min_height": null,
            "padding": null,
            "grid_auto_rows": null,
            "grid_gap": null,
            "max_width": null,
            "order": null,
            "_view_module_version": "1.2.0",
            "grid_template_areas": null,
            "object_position": null,
            "object_fit": null,
            "grid_auto_columns": null,
            "margin": null,
            "display": null,
            "left": null
          }
        },
        "b9bfb02d9d184faa86a0367d24061803": {
          "model_module": "@jupyter-widgets/controls",
          "model_name": "VBoxModel",
          "state": {
            "_view_name": "VBoxView",
            "_dom_classes": [
              "widget-interact"
            ],
            "_model_name": "VBoxModel",
            "_view_module": "@jupyter-widgets/controls",
            "_model_module_version": "1.5.0",
            "_view_count": null,
            "_view_module_version": "1.5.0",
            "box_style": "",
            "layout": "IPY_MODEL_7cc6dd8155b44deb91bf3f84da1356b6",
            "_model_module": "@jupyter-widgets/controls",
            "children": [
              "IPY_MODEL_29bbf2edd3924491b5203cb6549188e4",
              "IPY_MODEL_488f4b562d0847be8ae08ccf3aede48f",
              "IPY_MODEL_925d6dbd0f3e40b0af62b9855f509ccc",
              "IPY_MODEL_4089ea7d80544ca5b1d82e84dbf5728b"
            ]
          }
        },
        "7cc6dd8155b44deb91bf3f84da1356b6": {
          "model_module": "@jupyter-widgets/base",
          "model_name": "LayoutModel",
          "state": {
            "_view_name": "LayoutView",
            "grid_template_rows": null,
            "right": null,
            "justify_content": null,
            "_view_module": "@jupyter-widgets/base",
            "overflow": null,
            "_model_module_version": "1.2.0",
            "_view_count": null,
            "flex_flow": null,
            "width": null,
            "min_width": null,
            "border": null,
            "align_items": null,
            "bottom": null,
            "_model_module": "@jupyter-widgets/base",
            "top": null,
            "grid_column": null,
            "overflow_y": null,
            "overflow_x": null,
            "grid_auto_flow": null,
            "grid_area": null,
            "grid_template_columns": null,
            "flex": null,
            "_model_name": "LayoutModel",
            "justify_items": null,
            "grid_row": null,
            "max_height": null,
            "align_content": null,
            "visibility": null,
            "align_self": null,
            "height": null,
            "min_height": null,
            "padding": null,
            "grid_auto_rows": null,
            "grid_gap": null,
            "max_width": null,
            "order": null,
            "_view_module_version": "1.2.0",
            "grid_template_areas": null,
            "object_position": null,
            "object_fit": null,
            "grid_auto_columns": null,
            "margin": null,
            "display": null,
            "left": null
          }
        },
        "29bbf2edd3924491b5203cb6549188e4": {
          "model_module": "@jupyter-widgets/controls",
          "model_name": "IntSliderModel",
          "state": {
            "_view_name": "IntSliderView",
            "style": "IPY_MODEL_6b466eec637040dd8394e52ba1639e01",
            "_dom_classes": [],
            "description": "w",
            "step": 1,
            "_model_name": "IntSliderModel",
            "orientation": "horizontal",
            "max": 5,
            "_view_module": "@jupyter-widgets/controls",
            "_model_module_version": "1.5.0",
            "value": 2,
            "_view_count": null,
            "disabled": false,
            "_view_module_version": "1.5.0",
            "min": 0,
            "continuous_update": true,
            "readout_format": "d",
            "description_tooltip": null,
            "readout": true,
            "_model_module": "@jupyter-widgets/controls",
            "layout": "IPY_MODEL_3a2ea4d214ff4a68a884b272fd878306"
          }
        },
        "488f4b562d0847be8ae08ccf3aede48f": {
          "model_module": "@jupyter-widgets/controls",
          "model_name": "FloatSliderModel",
          "state": {
            "_view_name": "FloatSliderView",
            "style": "IPY_MODEL_915cc093a29542a5ad005bcd401748f2",
            "_dom_classes": [],
            "description": "amp",
            "step": 0.1,
            "_model_name": "FloatSliderModel",
            "orientation": "horizontal",
            "max": 8,
            "_view_module": "@jupyter-widgets/controls",
            "_model_module_version": "1.5.0",
            "value": 4,
            "_view_count": null,
            "disabled": false,
            "_view_module_version": "1.5.0",
            "min": 0,
            "continuous_update": true,
            "readout_format": ".2f",
            "description_tooltip": null,
            "readout": true,
            "_model_module": "@jupyter-widgets/controls",
            "layout": "IPY_MODEL_28a22997a9274a8aae1705ad580cd402"
          }
        },
        "925d6dbd0f3e40b0af62b9855f509ccc": {
          "model_module": "@jupyter-widgets/controls",
          "model_name": "FloatSliderModel",
          "state": {
            "_view_name": "FloatSliderView",
            "style": "IPY_MODEL_b19c286d340d4b8b9a03899f1b00c677",
            "_dom_classes": [],
            "description": "phi",
            "step": 0.01,
            "_model_name": "FloatSliderModel",
            "orientation": "horizontal",
            "max": 6.293185307179586,
            "_view_module": "@jupyter-widgets/controls",
            "_model_module_version": "1.5.0",
            "value": 3.14,
            "_view_count": null,
            "disabled": false,
            "_view_module_version": "1.5.0",
            "min": 0,
            "continuous_update": true,
            "readout_format": ".2f",
            "description_tooltip": null,
            "readout": true,
            "_model_module": "@jupyter-widgets/controls",
            "layout": "IPY_MODEL_53593f3afc26449ea41fe591db887c4f"
          }
        },
        "4089ea7d80544ca5b1d82e84dbf5728b": {
          "model_module": "@jupyter-widgets/output",
          "model_name": "OutputModel",
          "state": {
            "_view_name": "OutputView",
            "msg_id": "",
            "_dom_classes": [],
            "_model_name": "OutputModel",
            "outputs": [
              {
                "output_type": "stream",
                "metadata": {
                  "tags": []
                },
                "text": "2 4.0 3.14\n",
                "stream": "stdout"
              },
              {
                "output_type": "display_data",
                "metadata": {
                  "tags": [],
                  "needs_background": "light"
                },
                "image/png": "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\n",
                "text/plain": "<Figure size 432x288 with 1 Axes>"
              }
            ],
            "_view_module": "@jupyter-widgets/output",
            "_model_module_version": "1.0.0",
            "_view_count": null,
            "_view_module_version": "1.0.0",
            "layout": "IPY_MODEL_9e14ca559b2b4df8a88272f481a0b9cb",
            "_model_module": "@jupyter-widgets/output"
          }
        },
        "6b466eec637040dd8394e52ba1639e01": {
          "model_module": "@jupyter-widgets/controls",
          "model_name": "SliderStyleModel",
          "state": {
            "_view_name": "StyleView",
            "handle_color": null,
            "_model_name": "SliderStyleModel",
            "description_width": "",
            "_view_module": "@jupyter-widgets/base",
            "_model_module_version": "1.5.0",
            "_view_count": null,
            "_view_module_version": "1.2.0",
            "_model_module": "@jupyter-widgets/controls"
          }
        },
        "3a2ea4d214ff4a68a884b272fd878306": {
          "model_module": "@jupyter-widgets/base",
          "model_name": "LayoutModel",
          "state": {
            "_view_name": "LayoutView",
            "grid_template_rows": null,
            "right": null,
            "justify_content": null,
            "_view_module": "@jupyter-widgets/base",
            "overflow": null,
            "_model_module_version": "1.2.0",
            "_view_count": null,
            "flex_flow": null,
            "width": null,
            "min_width": null,
            "border": null,
            "align_items": null,
            "bottom": null,
            "_model_module": "@jupyter-widgets/base",
            "top": null,
            "grid_column": null,
            "overflow_y": null,
            "overflow_x": null,
            "grid_auto_flow": null,
            "grid_area": null,
            "grid_template_columns": null,
            "flex": null,
            "_model_name": "LayoutModel",
            "justify_items": null,
            "grid_row": null,
            "max_height": null,
            "align_content": null,
            "visibility": null,
            "align_self": null,
            "height": null,
            "min_height": null,
            "padding": null,
            "grid_auto_rows": null,
            "grid_gap": null,
            "max_width": null,
            "order": null,
            "_view_module_version": "1.2.0",
            "grid_template_areas": null,
            "object_position": null,
            "object_fit": null,
            "grid_auto_columns": null,
            "margin": null,
            "display": null,
            "left": null
          }
        },
        "915cc093a29542a5ad005bcd401748f2": {
          "model_module": "@jupyter-widgets/controls",
          "model_name": "SliderStyleModel",
          "state": {
            "_view_name": "StyleView",
            "handle_color": null,
            "_model_name": "SliderStyleModel",
            "description_width": "",
            "_view_module": "@jupyter-widgets/base",
            "_model_module_version": "1.5.0",
            "_view_count": null,
            "_view_module_version": "1.2.0",
            "_model_module": "@jupyter-widgets/controls"
          }
        },
        "28a22997a9274a8aae1705ad580cd402": {
          "model_module": "@jupyter-widgets/base",
          "model_name": "LayoutModel",
          "state": {
            "_view_name": "LayoutView",
            "grid_template_rows": null,
            "right": null,
            "justify_content": null,
            "_view_module": "@jupyter-widgets/base",
            "overflow": null,
            "_model_module_version": "1.2.0",
            "_view_count": null,
            "flex_flow": null,
            "width": null,
            "min_width": null,
            "border": null,
            "align_items": null,
            "bottom": null,
            "_model_module": "@jupyter-widgets/base",
            "top": null,
            "grid_column": null,
            "overflow_y": null,
            "overflow_x": null,
            "grid_auto_flow": null,
            "grid_area": null,
            "grid_template_columns": null,
            "flex": null,
            "_model_name": "LayoutModel",
            "justify_items": null,
            "grid_row": null,
            "max_height": null,
            "align_content": null,
            "visibility": null,
            "align_self": null,
            "height": null,
            "min_height": null,
            "padding": null,
            "grid_auto_rows": null,
            "grid_gap": null,
            "max_width": null,
            "order": null,
            "_view_module_version": "1.2.0",
            "grid_template_areas": null,
            "object_position": null,
            "object_fit": null,
            "grid_auto_columns": null,
            "margin": null,
            "display": null,
            "left": null
          }
        },
        "b19c286d340d4b8b9a03899f1b00c677": {
          "model_module": "@jupyter-widgets/controls",
          "model_name": "SliderStyleModel",
          "state": {
            "_view_name": "StyleView",
            "handle_color": null,
            "_model_name": "SliderStyleModel",
            "description_width": "",
            "_view_module": "@jupyter-widgets/base",
            "_model_module_version": "1.5.0",
            "_view_count": null,
            "_view_module_version": "1.2.0",
            "_model_module": "@jupyter-widgets/controls"
          }
        },
        "53593f3afc26449ea41fe591db887c4f": {
          "model_module": "@jupyter-widgets/base",
          "model_name": "LayoutModel",
          "state": {
            "_view_name": "LayoutView",
            "grid_template_rows": null,
            "right": null,
            "justify_content": null,
            "_view_module": "@jupyter-widgets/base",
            "overflow": null,
            "_model_module_version": "1.2.0",
            "_view_count": null,
            "flex_flow": null,
            "width": null,
            "min_width": null,
            "border": null,
            "align_items": null,
            "bottom": null,
            "_model_module": "@jupyter-widgets/base",
            "top": null,
            "grid_column": null,
            "overflow_y": null,
            "overflow_x": null,
            "grid_auto_flow": null,
            "grid_area": null,
            "grid_template_columns": null,
            "flex": null,
            "_model_name": "LayoutModel",
            "justify_items": null,
            "grid_row": null,
            "max_height": null,
            "align_content": null,
            "visibility": null,
            "align_self": null,
            "height": null,
            "min_height": null,
            "padding": null,
            "grid_auto_rows": null,
            "grid_gap": null,
            "max_width": null,
            "order": null,
            "_view_module_version": "1.2.0",
            "grid_template_areas": null,
            "object_position": null,
            "object_fit": null,
            "grid_auto_columns": null,
            "margin": null,
            "display": null,
            "left": null
          }
        },
        "9e14ca559b2b4df8a88272f481a0b9cb": {
          "model_module": "@jupyter-widgets/base",
          "model_name": "LayoutModel",
          "state": {
            "_view_name": "LayoutView",
            "grid_template_rows": null,
            "right": null,
            "justify_content": null,
            "_view_module": "@jupyter-widgets/base",
            "overflow": null,
            "_model_module_version": "1.2.0",
            "_view_count": null,
            "flex_flow": null,
            "width": null,
            "min_width": null,
            "border": null,
            "align_items": null,
            "bottom": null,
            "_model_module": "@jupyter-widgets/base",
            "top": null,
            "grid_column": null,
            "overflow_y": null,
            "overflow_x": null,
            "grid_auto_flow": null,
            "grid_area": null,
            "grid_template_columns": null,
            "flex": null,
            "_model_name": "LayoutModel",
            "justify_items": null,
            "grid_row": null,
            "max_height": null,
            "align_content": null,
            "visibility": null,
            "align_self": null,
            "height": null,
            "min_height": null,
            "padding": null,
            "grid_auto_rows": null,
            "grid_gap": null,
            "max_width": null,
            "order": null,
            "_view_module_version": "1.2.0",
            "grid_template_areas": null,
            "object_position": null,
            "object_fit": null,
            "grid_auto_columns": null,
            "margin": null,
            "display": null,
            "left": null
          }
        },
        "d9c44f133b194d338eed13f2749fa9f3": {
          "model_module": "@jupyter-widgets/controls",
          "model_name": "ButtonModel",
          "state": {
            "_view_name": "ButtonView",
            "style": "IPY_MODEL_52e43059d1ca4e339d984dce7ebf39ee",
            "_dom_classes": [],
            "description": "INFO",
            "_model_name": "ButtonModel",
            "button_style": "",
            "_view_module": "@jupyter-widgets/controls",
            "_model_module_version": "1.5.0",
            "tooltip": "",
            "_view_count": null,
            "disabled": false,
            "_view_module_version": "1.5.0",
            "layout": "IPY_MODEL_f4424dc6b09a45ac8b731f5d4e7e8d6f",
            "_model_module": "@jupyter-widgets/controls",
            "icon": ""
          }
        },
        "52e43059d1ca4e339d984dce7ebf39ee": {
          "model_module": "@jupyter-widgets/controls",
          "model_name": "ButtonStyleModel",
          "state": {
            "_view_name": "StyleView",
            "_model_name": "ButtonStyleModel",
            "_view_module": "@jupyter-widgets/base",
            "_model_module_version": "1.5.0",
            "_view_count": null,
            "button_color": null,
            "font_weight": "",
            "_view_module_version": "1.2.0",
            "_model_module": "@jupyter-widgets/controls"
          }
        },
        "f4424dc6b09a45ac8b731f5d4e7e8d6f": {
          "model_module": "@jupyter-widgets/base",
          "model_name": "LayoutModel",
          "state": {
            "_view_name": "LayoutView",
            "grid_template_rows": null,
            "right": null,
            "justify_content": null,
            "_view_module": "@jupyter-widgets/base",
            "overflow": null,
            "_model_module_version": "1.2.0",
            "_view_count": null,
            "flex_flow": null,
            "width": null,
            "min_width": null,
            "border": null,
            "align_items": null,
            "bottom": null,
            "_model_module": "@jupyter-widgets/base",
            "top": null,
            "grid_column": null,
            "overflow_y": null,
            "overflow_x": null,
            "grid_auto_flow": null,
            "grid_area": null,
            "grid_template_columns": null,
            "flex": null,
            "_model_name": "LayoutModel",
            "justify_items": null,
            "grid_row": null,
            "max_height": null,
            "align_content": null,
            "visibility": null,
            "align_self": null,
            "height": null,
            "min_height": null,
            "padding": null,
            "grid_auto_rows": null,
            "grid_gap": null,
            "max_width": null,
            "order": null,
            "_view_module_version": "1.2.0",
            "grid_template_areas": null,
            "object_position": null,
            "object_fit": null,
            "grid_auto_columns": null,
            "margin": null,
            "display": null,
            "left": null
          }
        },
        "9ddf5349130d4450bc1a545db441c995": {
          "model_module": "@jupyter-widgets/output",
          "model_name": "OutputModel",
          "state": {
            "_view_name": "OutputView",
            "msg_id": "",
            "_dom_classes": [],
            "_model_name": "OutputModel",
            "outputs": [],
            "_view_module": "@jupyter-widgets/output",
            "_model_module_version": "1.0.0",
            "_view_count": null,
            "_view_module_version": "1.0.0",
            "layout": "IPY_MODEL_ea01091a79924126b36e752e0f67cbfc",
            "_model_module": "@jupyter-widgets/output"
          }
        },
        "ea01091a79924126b36e752e0f67cbfc": {
          "model_module": "@jupyter-widgets/base",
          "model_name": "LayoutModel",
          "state": {
            "_view_name": "LayoutView",
            "grid_template_rows": null,
            "right": null,
            "justify_content": null,
            "_view_module": "@jupyter-widgets/base",
            "overflow": null,
            "_model_module_version": "1.2.0",
            "_view_count": null,
            "flex_flow": null,
            "width": null,
            "min_width": null,
            "border": null,
            "align_items": null,
            "bottom": null,
            "_model_module": "@jupyter-widgets/base",
            "top": null,
            "grid_column": null,
            "overflow_y": null,
            "overflow_x": null,
            "grid_auto_flow": null,
            "grid_area": null,
            "grid_template_columns": null,
            "flex": null,
            "_model_name": "LayoutModel",
            "justify_items": null,
            "grid_row": null,
            "max_height": null,
            "align_content": null,
            "visibility": null,
            "align_self": null,
            "height": null,
            "min_height": null,
            "padding": null,
            "grid_auto_rows": null,
            "grid_gap": null,
            "max_width": null,
            "order": null,
            "_view_module_version": "1.2.0",
            "grid_template_areas": null,
            "object_position": null,
            "object_fit": null,
            "grid_auto_columns": null,
            "margin": null,
            "display": null,
            "left": null
          }
        },
        "7df6c5dd2a794399bc66ebde68e41939": {
          "model_module": "@jupyter-widgets/controls",
          "model_name": "ButtonModel",
          "state": {
            "_view_name": "ButtonView",
            "style": "IPY_MODEL_54c62aab2fd944e690de7e753e3d3542",
            "_dom_classes": [],
            "description": "DESCRIBE",
            "_model_name": "ButtonModel",
            "button_style": "",
            "_view_module": "@jupyter-widgets/controls",
            "_model_module_version": "1.5.0",
            "tooltip": "",
            "_view_count": null,
            "disabled": false,
            "_view_module_version": "1.5.0",
            "layout": "IPY_MODEL_1408d1f43eac4a2586ca8eac9ec845f0",
            "_model_module": "@jupyter-widgets/controls",
            "icon": ""
          }
        },
        "54c62aab2fd944e690de7e753e3d3542": {
          "model_module": "@jupyter-widgets/controls",
          "model_name": "ButtonStyleModel",
          "state": {
            "_view_name": "StyleView",
            "_model_name": "ButtonStyleModel",
            "_view_module": "@jupyter-widgets/base",
            "_model_module_version": "1.5.0",
            "_view_count": null,
            "button_color": null,
            "font_weight": "",
            "_view_module_version": "1.2.0",
            "_model_module": "@jupyter-widgets/controls"
          }
        },
        "1408d1f43eac4a2586ca8eac9ec845f0": {
          "model_module": "@jupyter-widgets/base",
          "model_name": "LayoutModel",
          "state": {
            "_view_name": "LayoutView",
            "grid_template_rows": null,
            "right": null,
            "justify_content": null,
            "_view_module": "@jupyter-widgets/base",
            "overflow": null,
            "_model_module_version": "1.2.0",
            "_view_count": null,
            "flex_flow": null,
            "width": null,
            "min_width": null,
            "border": null,
            "align_items": null,
            "bottom": null,
            "_model_module": "@jupyter-widgets/base",
            "top": null,
            "grid_column": null,
            "overflow_y": null,
            "overflow_x": null,
            "grid_auto_flow": null,
            "grid_area": null,
            "grid_template_columns": null,
            "flex": null,
            "_model_name": "LayoutModel",
            "justify_items": null,
            "grid_row": null,
            "max_height": null,
            "align_content": null,
            "visibility": null,
            "align_self": null,
            "height": null,
            "min_height": null,
            "padding": null,
            "grid_auto_rows": null,
            "grid_gap": null,
            "max_width": null,
            "order": null,
            "_view_module_version": "1.2.0",
            "grid_template_areas": null,
            "object_position": null,
            "object_fit": null,
            "grid_auto_columns": null,
            "margin": null,
            "display": null,
            "left": null
          }
        },
        "3deb5ca4bd0f47759962fe24b5226bdb": {
          "model_module": "@jupyter-widgets/output",
          "model_name": "OutputModel",
          "state": {
            "_view_name": "OutputView",
            "msg_id": "",
            "_dom_classes": [],
            "_model_name": "OutputModel",
            "outputs": [
              {
                "output_type": "stream",
                "metadata": {
                  "tags": []
                },
                "text": "<class 'pandas.core.frame.DataFrame'>\nRangeIndex: 3000 entries, 0 to 2999\nData columns (total 9 columns):\n #   Column              Non-Null Count  Dtype  \n---  ------              --------------  -----  \n 0   longitude           3000 non-null   float64\n 1   latitude            3000 non-null   float64\n 2   housing_median_age  3000 non-null   float64\n 3   total_rooms         3000 non-null   float64\n 4   total_bedrooms      3000 non-null   float64\n 5   population          3000 non-null   float64\n 6   households          3000 non-null   float64\n 7   median_income       3000 non-null   float64\n 8   median_house_value  3000 non-null   float64\ndtypes: float64(9)\nmemory usage: 211.1 KB\nNone\n_________________________\n",
                "stream": "stdout"
              },
              {
                "output_type": "stream",
                "metadata": {
                  "tags": []
                },
                "text": "         longitude    latitude  ...  median_income  median_house_value\ncount  3000.000000  3000.00000  ...    3000.000000          3000.00000\nmean   -119.589200    35.63539  ...       3.807272        205846.27500\nstd       1.994936     2.12967  ...       1.854512        113119.68747\nmin    -124.180000    32.56000  ...       0.499900         22500.00000\n25%    -121.810000    33.93000  ...       2.544000        121200.00000\n50%    -118.485000    34.27000  ...       3.487150        177650.00000\n75%    -118.020000    37.69000  ...       4.656475        263975.00000\nmax    -114.490000    41.92000  ...      15.000100        500001.00000\n\n[8 rows x 9 columns]\n_________________________\n",
                "stream": "stdout"
              }
            ],
            "_view_module": "@jupyter-widgets/output",
            "_model_module_version": "1.0.0",
            "_view_count": null,
            "_view_module_version": "1.0.0",
            "layout": "IPY_MODEL_0a5e8ee292804675995caf4604aedced",
            "_model_module": "@jupyter-widgets/output"
          }
        },
        "0a5e8ee292804675995caf4604aedced": {
          "model_module": "@jupyter-widgets/base",
          "model_name": "LayoutModel",
          "state": {
            "_view_name": "LayoutView",
            "grid_template_rows": null,
            "right": null,
            "justify_content": null,
            "_view_module": "@jupyter-widgets/base",
            "overflow": null,
            "_model_module_version": "1.2.0",
            "_view_count": null,
            "flex_flow": null,
            "width": null,
            "min_width": null,
            "border": null,
            "align_items": null,
            "bottom": null,
            "_model_module": "@jupyter-widgets/base",
            "top": null,
            "grid_column": null,
            "overflow_y": null,
            "overflow_x": null,
            "grid_auto_flow": null,
            "grid_area": null,
            "grid_template_columns": null,
            "flex": null,
            "_model_name": "LayoutModel",
            "justify_items": null,
            "grid_row": null,
            "max_height": null,
            "align_content": null,
            "visibility": null,
            "align_self": null,
            "height": null,
            "min_height": null,
            "padding": null,
            "grid_auto_rows": null,
            "grid_gap": null,
            "max_width": null,
            "order": null,
            "_view_module_version": "1.2.0",
            "grid_template_areas": null,
            "object_position": null,
            "object_fit": null,
            "grid_auto_columns": null,
            "margin": null,
            "display": null,
            "left": null
          }
        }
      }
    }
  },
  "cells": [
    {
      "cell_type": "markdown",
      "metadata": {
        "id": "view-in-github",
        "colab_type": "text"
      },
      "source": [
        "<a href=\"https://colab.research.google.com/github/AnnaSlesareva/1/blob/main/lab1anna.ipynb\" target=\"_parent\"><img src=\"https://colab.research.google.com/assets/colab-badge.svg\" alt=\"Open In Colab\"/></a>"
      ]
    },
    {
      "cell_type": "markdown",
      "metadata": {
        "id": "n2B_d3Jf3gO4"
      },
      "source": [
        "# Basic Widgets"
      ]
    },
    {
      "cell_type": "code",
      "metadata": {
        "id": "3ZXwd49Eq29c"
      },
      "source": [
        "import ipywidgets as wd"
      ],
      "execution_count": null,
      "outputs": []
    },
    {
      "cell_type": "code",
      "metadata": {
        "id": "wy5PxLbiq5jG"
      },
      "source": [
        "from IPython.display import  display"
      ],
      "execution_count": null,
      "outputs": []
    },
    {
      "cell_type": "code",
      "metadata": {
        "id": "JsM_rkXEq7Ig"
      },
      "source": [
        "sl1 = wd.IntSlider()"
      ],
      "execution_count": null,
      "outputs": []
    },
    {
      "cell_type": "code",
      "metadata": {
        "colab": {
          "base_uri": "https://localhost:8080/",
          "height": 49,
          "referenced_widgets": [
            "3ddb53555b304de88ee8aa368198ad92",
            "e43796927b8c4dcf8fb4667431091c89",
            "a7455a3688ab46b1bc0f1f65b25855af"
          ]
        },
        "id": "yYBZ852Hq8s0",
        "outputId": "9ba7a90e-49de-4f84-cb58-12de8b4ba0f3"
      },
      "source": [
        "sl1"
      ],
      "execution_count": null,
      "outputs": [
        {
          "output_type": "display_data",
          "data": {
            "application/vnd.jupyter.widget-view+json": {
              "model_id": "3ddb53555b304de88ee8aa368198ad92",
              "version_minor": 0,
              "version_major": 2
            },
            "text/plain": [
              "IntSlider(value=19)"
            ]
          },
          "metadata": {
            "tags": []
          }
        }
      ]
    },
    {
      "cell_type": "code",
      "metadata": {
        "id": "Atkdgmo2rGAv"
      },
      "source": [
        "name = wd.Text(value='Anna')"
      ],
      "execution_count": null,
      "outputs": []
    },
    {
      "cell_type": "code",
      "metadata": {
        "colab": {
          "base_uri": "https://localhost:8080/",
          "height": 49,
          "referenced_widgets": [
            "25f88fff51f346649b95e1c0c90dc99a",
            "60c0d8401c4e47d98e40ea7d32506d1a",
            "6a120ec154ab45df96b7ff4d4ae0a626"
          ]
        },
        "id": "bgE95cMUq-gV",
        "outputId": "3b23f67f-162f-4c65-f1ba-7e2df7ade1ae"
      },
      "source": [
        "display(name)"
      ],
      "execution_count": null,
      "outputs": [
        {
          "output_type": "display_data",
          "data": {
            "application/vnd.jupyter.widget-view+json": {
              "model_id": "25f88fff51f346649b95e1c0c90dc99a",
              "version_minor": 0,
              "version_major": 2
            },
            "text/plain": [
              "Text(value='Anna')"
            ]
          },
          "metadata": {
            "tags": []
          }
        }
      ]
    },
    {
      "cell_type": "code",
      "metadata": {
        "id": "XyOiLv3grM_I"
      },
      "source": [
        "import time"
      ],
      "execution_count": null,
      "outputs": []
    },
    {
      "cell_type": "code",
      "metadata": {
        "colab": {
          "base_uri": "https://localhost:8080/",
          "height": 49,
          "referenced_widgets": [
            "249f254dad6d4a36827bfb53e1df9b9d",
            "ee98e692c0de4a1b993cec2177cc4d2b",
            "a1f48c3fc3b44072adaebe54089859e4"
          ]
        },
        "id": "X9ob27yOrOLV",
        "outputId": "8a02156f-b63a-46d6-d2ce-766817221401"
      },
      "source": [
        "pb1 = wd.IntProgress(value=0,\n",
        "                          min=1,\n",
        "                          max=100,\n",
        "                          description='Loading: ',\n",
        "                          bar_style='',\n",
        "                          orientation='horizontal')\n",
        "display(pb1)\n",
        "\n",
        "for i in range(100):\n",
        "    pb1.value = i+1\n",
        "    time.sleep(0.2)"
      ],
      "execution_count": null,
      "outputs": [
        {
          "output_type": "display_data",
          "data": {
            "application/vnd.jupyter.widget-view+json": {
              "model_id": "249f254dad6d4a36827bfb53e1df9b9d",
              "version_minor": 0,
              "version_major": 2
            },
            "text/plain": [
              "IntProgress(value=1, description='Loading: ', min=1)"
            ]
          },
          "metadata": {
            "tags": []
          }
        }
      ]
    },
    {
      "cell_type": "markdown",
      "metadata": {
        "id": "tu-F8Q7X330j"
      },
      "source": [
        "# Button"
      ]
    },
    {
      "cell_type": "code",
      "metadata": {
        "colab": {
          "base_uri": "https://localhost:8080/",
          "height": 83,
          "referenced_widgets": [
            "e35435131aa045a7a129ed46c94d56a6",
            "088bef0815b44dfb9a5f1ccfddcc9785",
            "2b36a87aaa9447e588f688f7bd4d68c4",
            "99b8266af96e41bf86f60b1398443d38",
            "95469be3db0d40e3b706c0350ddb0589"
          ]
        },
        "id": "QywZ3RPHrXXR",
        "outputId": "f24b22a7-cf91-45cb-f68f-78672db3f2f9"
      },
      "source": [
        "button = wd.Button(description=\"Кнопка!\")\n",
        "output = wd.Output()\n",
        "\n",
        "def  on_my_button_click(b):\n",
        "    with output:\n",
        "        print(\"Button clicked (msq1).\")\n",
        "        print(\"Button clicked (msq2).\")\n",
        "\n",
        "button.on_click(on_my_button_click)\n",
        "display(button, output)"
      ],
      "execution_count": null,
      "outputs": [
        {
          "output_type": "display_data",
          "data": {
            "application/vnd.jupyter.widget-view+json": {
              "model_id": "e35435131aa045a7a129ed46c94d56a6",
              "version_minor": 0,
              "version_major": 2
            },
            "text/plain": [
              "Button(description='Кнопка!', style=ButtonStyle())"
            ]
          },
          "metadata": {
            "tags": []
          }
        },
        {
          "output_type": "display_data",
          "data": {
            "application/vnd.jupyter.widget-view+json": {
              "model_id": "99b8266af96e41bf86f60b1398443d38",
              "version_minor": 0,
              "version_major": 2
            },
            "text/plain": [
              "Output()"
            ]
          },
          "metadata": {
            "tags": []
          }
        }
      ]
    },
    {
      "cell_type": "markdown",
      "metadata": {
        "id": "9rzmPN_14aXD"
      },
      "source": [
        "# Interact"
      ]
    },
    {
      "cell_type": "code",
      "metadata": {
        "colab": {
          "base_uri": "https://localhost:8080/",
          "height": 83,
          "referenced_widgets": [
            "9cb62c71fbbe4b91af6a8744bc2e1584",
            "cdca377921a4426983b660d0db073767",
            "4fbfce2e97734b259a66d2994bed6167",
            "5b909e43c5dd41b9b9d7ffcbc67d69ca",
            "10456d3e271546ac8b3a1013afc2757d",
            "c14574b1160848fdb3732297bb5f9957",
            "2fe27edf0f9c4d41b2548de635c51e7a"
          ]
        },
        "id": "2CsGlKg8rZ49",
        "outputId": "6abd7203-f24c-4f57-c1ab-4618040811e7"
      },
      "source": [
        "def say_my_name(name):\n",
        "    print(f'My name is',  (name))\n",
        "\n",
        "wd.interact(say_my_name, name=[\"Мария\", \"Анна\", \"Павел\"])"
      ],
      "execution_count": null,
      "outputs": [
        {
          "output_type": "display_data",
          "data": {
            "application/vnd.jupyter.widget-view+json": {
              "model_id": "9cb62c71fbbe4b91af6a8744bc2e1584",
              "version_minor": 0,
              "version_major": 2
            },
            "text/plain": [
              "interactive(children=(Dropdown(description='name', options=('Мария', 'Анна', 'Павел'), value='Мария'), Output(…"
            ]
          },
          "metadata": {
            "tags": []
          }
        },
        {
          "output_type": "execute_result",
          "data": {
            "text/plain": [
              "<function __main__.say_my_name>"
            ]
          },
          "metadata": {
            "tags": []
          },
          "execution_count": 11
        }
      ]
    },
    {
      "cell_type": "markdown",
      "metadata": {
        "id": "pB5L4dUS4qOE"
      },
      "source": [
        "# Sin"
      ]
    },
    {
      "cell_type": "code",
      "metadata": {
        "colab": {
          "base_uri": "https://localhost:8080/"
        },
        "id": "K2dB4P3arqSx",
        "outputId": "dcd236df-68cc-4fe4-adc0-5980df000475"
      },
      "source": [
        "import numpy as np\n",
        "import matplotlib.pyplot as plt\n",
        "%matplotlib -l\n",
        "%matplotlib inline"
      ],
      "execution_count": null,
      "outputs": [
        {
          "output_type": "stream",
          "text": [
            "Available matplotlib backends: ['tk', 'gtk', 'gtk3', 'wx', 'qt4', 'qt5', 'qt', 'osx', 'nbagg', 'notebook', 'agg', 'inline', 'ipympl', 'widget']\n"
          ],
          "name": "stdout"
        }
      ]
    },
    {
      "cell_type": "code",
      "metadata": {
        "id": "tX8aUq2Grudc"
      },
      "source": [
        "x = np.linspace(0, 2 * np.pi, 100)"
      ],
      "execution_count": null,
      "outputs": []
    },
    {
      "cell_type": "code",
      "metadata": {
        "colab": {
          "base_uri": "https://localhost:8080/",
          "height": 395,
          "referenced_widgets": [
            "b9bfb02d9d184faa86a0367d24061803",
            "7cc6dd8155b44deb91bf3f84da1356b6",
            "29bbf2edd3924491b5203cb6549188e4",
            "488f4b562d0847be8ae08ccf3aede48f",
            "925d6dbd0f3e40b0af62b9855f509ccc",
            "4089ea7d80544ca5b1d82e84dbf5728b",
            "6b466eec637040dd8394e52ba1639e01",
            "3a2ea4d214ff4a68a884b272fd878306",
            "915cc093a29542a5ad005bcd401748f2",
            "28a22997a9274a8aae1705ad580cd402",
            "b19c286d340d4b8b9a03899f1b00c677",
            "53593f3afc26449ea41fe591db887c4f",
            "9e14ca559b2b4df8a88272f481a0b9cb"
          ]
        },
        "id": "33o3WfY6ru3Z",
        "outputId": "d224e759-464f-40ad-e3ca-b26b2614c213"
      },
      "source": [
        "def my_sin(x, amp, w, phi):\n",
        "  return (amp*np.sin(w*(x - phi)))\n",
        "def draw_sin(w, amp, phi):\n",
        "  y = my_sin(x, amp, w, phi)\n",
        "  fig, ax = plt.subplots()\n",
        "  ax.grid(True)\n",
        "  ax.plot(x, y, color='green')\n",
        "  print(w, amp, phi)\n",
        "wd.interact(draw_sin, w=(0,5,1), amp = (0,8,0.1), phi=(0,2*np.pi + 0.01, 0.01))"
      ],
      "execution_count": null,
      "outputs": [
        {
          "output_type": "display_data",
          "data": {
            "application/vnd.jupyter.widget-view+json": {
              "model_id": "b9bfb02d9d184faa86a0367d24061803",
              "version_minor": 0,
              "version_major": 2
            },
            "text/plain": [
              "interactive(children=(IntSlider(value=2, description='w', max=5), FloatSlider(value=4.0, description='amp', ma…"
            ]
          },
          "metadata": {
            "tags": []
          }
        },
        {
          "output_type": "execute_result",
          "data": {
            "text/plain": [
              "<function __main__.draw_sin>"
            ]
          },
          "metadata": {
            "tags": []
          },
          "execution_count": 23
        }
      ]
    },
    {
      "cell_type": "markdown",
      "metadata": {
        "id": "gsZswkgi4yb9"
      },
      "source": [
        "# Data"
      ]
    },
    {
      "cell_type": "code",
      "metadata": {
        "id": "QncnuG8Yr6Cx"
      },
      "source": [
        "import pandas as pd"
      ],
      "execution_count": null,
      "outputs": []
    },
    {
      "cell_type": "code",
      "metadata": {
        "id": "EhrRV3chr6nS"
      },
      "source": [
        "data = pd.read_csv(\"/content/sample_data/california_housing_test.csv\")"
      ],
      "execution_count": null,
      "outputs": []
    },
    {
      "cell_type": "code",
      "metadata": {
        "colab": {
          "base_uri": "https://localhost:8080/"
        },
        "id": "Q1_4LZgqr-Yp",
        "outputId": "4cd85efb-1de6-48bb-d9d1-b0a848346082"
      },
      "source": [
        "data.info()"
      ],
      "execution_count": null,
      "outputs": [
        {
          "output_type": "stream",
          "text": [
            "<class 'pandas.core.frame.DataFrame'>\n",
            "RangeIndex: 3000 entries, 0 to 2999\n",
            "Data columns (total 9 columns):\n",
            " #   Column              Non-Null Count  Dtype  \n",
            "---  ------              --------------  -----  \n",
            " 0   longitude           3000 non-null   float64\n",
            " 1   latitude            3000 non-null   float64\n",
            " 2   housing_median_age  3000 non-null   float64\n",
            " 3   total_rooms         3000 non-null   float64\n",
            " 4   total_bedrooms      3000 non-null   float64\n",
            " 5   population          3000 non-null   float64\n",
            " 6   households          3000 non-null   float64\n",
            " 7   median_income       3000 non-null   float64\n",
            " 8   median_house_value  3000 non-null   float64\n",
            "dtypes: float64(9)\n",
            "memory usage: 211.1 KB\n"
          ],
          "name": "stdout"
        }
      ]
    },
    {
      "cell_type": "code",
      "metadata": {
        "colab": {
          "base_uri": "https://localhost:8080/",
          "height": 297
        },
        "id": "KJmaJJ0NsB6n",
        "outputId": "77442ae1-709c-4d41-d893-fe382c68fa27"
      },
      "source": [
        "data.describe()"
      ],
      "execution_count": null,
      "outputs": [
        {
          "output_type": "execute_result",
          "data": {
            "text/html": [
              "<div>\n",
              "<style scoped>\n",
              "    .dataframe tbody tr th:only-of-type {\n",
              "        vertical-align: middle;\n",
              "    }\n",
              "\n",
              "    .dataframe tbody tr th {\n",
              "        vertical-align: top;\n",
              "    }\n",
              "\n",
              "    .dataframe thead th {\n",
              "        text-align: right;\n",
              "    }\n",
              "</style>\n",
              "<table border=\"1\" class=\"dataframe\">\n",
              "  <thead>\n",
              "    <tr style=\"text-align: right;\">\n",
              "      <th></th>\n",
              "      <th>longitude</th>\n",
              "      <th>latitude</th>\n",
              "      <th>housing_median_age</th>\n",
              "      <th>total_rooms</th>\n",
              "      <th>total_bedrooms</th>\n",
              "      <th>population</th>\n",
              "      <th>households</th>\n",
              "      <th>median_income</th>\n",
              "      <th>median_house_value</th>\n",
              "    </tr>\n",
              "  </thead>\n",
              "  <tbody>\n",
              "    <tr>\n",
              "      <th>count</th>\n",
              "      <td>3000.000000</td>\n",
              "      <td>3000.00000</td>\n",
              "      <td>3000.000000</td>\n",
              "      <td>3000.000000</td>\n",
              "      <td>3000.000000</td>\n",
              "      <td>3000.000000</td>\n",
              "      <td>3000.00000</td>\n",
              "      <td>3000.000000</td>\n",
              "      <td>3000.00000</td>\n",
              "    </tr>\n",
              "    <tr>\n",
              "      <th>mean</th>\n",
              "      <td>-119.589200</td>\n",
              "      <td>35.63539</td>\n",
              "      <td>28.845333</td>\n",
              "      <td>2599.578667</td>\n",
              "      <td>529.950667</td>\n",
              "      <td>1402.798667</td>\n",
              "      <td>489.91200</td>\n",
              "      <td>3.807272</td>\n",
              "      <td>205846.27500</td>\n",
              "    </tr>\n",
              "    <tr>\n",
              "      <th>std</th>\n",
              "      <td>1.994936</td>\n",
              "      <td>2.12967</td>\n",
              "      <td>12.555396</td>\n",
              "      <td>2155.593332</td>\n",
              "      <td>415.654368</td>\n",
              "      <td>1030.543012</td>\n",
              "      <td>365.42271</td>\n",
              "      <td>1.854512</td>\n",
              "      <td>113119.68747</td>\n",
              "    </tr>\n",
              "    <tr>\n",
              "      <th>min</th>\n",
              "      <td>-124.180000</td>\n",
              "      <td>32.56000</td>\n",
              "      <td>1.000000</td>\n",
              "      <td>6.000000</td>\n",
              "      <td>2.000000</td>\n",
              "      <td>5.000000</td>\n",
              "      <td>2.00000</td>\n",
              "      <td>0.499900</td>\n",
              "      <td>22500.00000</td>\n",
              "    </tr>\n",
              "    <tr>\n",
              "      <th>25%</th>\n",
              "      <td>-121.810000</td>\n",
              "      <td>33.93000</td>\n",
              "      <td>18.000000</td>\n",
              "      <td>1401.000000</td>\n",
              "      <td>291.000000</td>\n",
              "      <td>780.000000</td>\n",
              "      <td>273.00000</td>\n",
              "      <td>2.544000</td>\n",
              "      <td>121200.00000</td>\n",
              "    </tr>\n",
              "    <tr>\n",
              "      <th>50%</th>\n",
              "      <td>-118.485000</td>\n",
              "      <td>34.27000</td>\n",
              "      <td>29.000000</td>\n",
              "      <td>2106.000000</td>\n",
              "      <td>437.000000</td>\n",
              "      <td>1155.000000</td>\n",
              "      <td>409.50000</td>\n",
              "      <td>3.487150</td>\n",
              "      <td>177650.00000</td>\n",
              "    </tr>\n",
              "    <tr>\n",
              "      <th>75%</th>\n",
              "      <td>-118.020000</td>\n",
              "      <td>37.69000</td>\n",
              "      <td>37.000000</td>\n",
              "      <td>3129.000000</td>\n",
              "      <td>636.000000</td>\n",
              "      <td>1742.750000</td>\n",
              "      <td>597.25000</td>\n",
              "      <td>4.656475</td>\n",
              "      <td>263975.00000</td>\n",
              "    </tr>\n",
              "    <tr>\n",
              "      <th>max</th>\n",
              "      <td>-114.490000</td>\n",
              "      <td>41.92000</td>\n",
              "      <td>52.000000</td>\n",
              "      <td>30450.000000</td>\n",
              "      <td>5419.000000</td>\n",
              "      <td>11935.000000</td>\n",
              "      <td>4930.00000</td>\n",
              "      <td>15.000100</td>\n",
              "      <td>500001.00000</td>\n",
              "    </tr>\n",
              "  </tbody>\n",
              "</table>\n",
              "</div>"
            ],
            "text/plain": [
              "         longitude    latitude  ...  median_income  median_house_value\n",
              "count  3000.000000  3000.00000  ...    3000.000000          3000.00000\n",
              "mean   -119.589200    35.63539  ...       3.807272        205846.27500\n",
              "std       1.994936     2.12967  ...       1.854512        113119.68747\n",
              "min    -124.180000    32.56000  ...       0.499900         22500.00000\n",
              "25%    -121.810000    33.93000  ...       2.544000        121200.00000\n",
              "50%    -118.485000    34.27000  ...       3.487150        177650.00000\n",
              "75%    -118.020000    37.69000  ...       4.656475        263975.00000\n",
              "max    -114.490000    41.92000  ...      15.000100        500001.00000\n",
              "\n",
              "[8 rows x 9 columns]"
            ]
          },
          "metadata": {
            "tags": []
          },
          "execution_count": 27
        }
      ]
    },
    {
      "cell_type": "markdown",
      "metadata": {
        "id": "8e97Hi_h45Ve"
      },
      "source": [
        "# *Homework*"
      ]
    },
    {
      "cell_type": "code",
      "metadata": {
        "colab": {
          "base_uri": "https://localhost:8080/",
          "height": 591,
          "referenced_widgets": [
            "d9c44f133b194d338eed13f2749fa9f3",
            "52e43059d1ca4e339d984dce7ebf39ee",
            "f4424dc6b09a45ac8b731f5d4e7e8d6f",
            "9ddf5349130d4450bc1a545db441c995",
            "ea01091a79924126b36e752e0f67cbfc",
            "7df6c5dd2a794399bc66ebde68e41939",
            "54c62aab2fd944e690de7e753e3d3542",
            "1408d1f43eac4a2586ca8eac9ec845f0",
            "3deb5ca4bd0f47759962fe24b5226bdb",
            "0a5e8ee292804675995caf4604aedced"
          ]
        },
        "id": "8j_kc3-9sDxX",
        "outputId": "e80765ad-aac1-48fd-90a6-5f512e9dde7b"
      },
      "source": [
        "button = wd.Button(description=\"INFO\")\n",
        "output = wd.Output()\n",
        "\n",
        "def  on_my_button_click(b):\n",
        "    with output:\n",
        "        print(data.info())\n",
        "        print('_________________________')\n",
        "button.on_click(on_my_button_click)\n",
        "display(button, output)\n",
        "\n",
        "button = wd.Button(description=\"DESCRIBE\")\n",
        "output = wd.Output()\n",
        "\n",
        "def  on_my_button_click(b):\n",
        "    with output:\n",
        "        print(data.describe())\n",
        "        print('_________________________')\n",
        "button.on_click(on_my_button_click)\n",
        "display(button, output)"
      ],
      "execution_count": null,
      "outputs": [
        {
          "output_type": "display_data",
          "data": {
            "application/vnd.jupyter.widget-view+json": {
              "model_id": "d9c44f133b194d338eed13f2749fa9f3",
              "version_minor": 0,
              "version_major": 2
            },
            "text/plain": [
              "Button(description='INFO', style=ButtonStyle())"
            ]
          },
          "metadata": {
            "tags": []
          }
        },
        {
          "output_type": "display_data",
          "data": {
            "application/vnd.jupyter.widget-view+json": {
              "model_id": "9ddf5349130d4450bc1a545db441c995",
              "version_minor": 0,
              "version_major": 2
            },
            "text/plain": [
              "Output()"
            ]
          },
          "metadata": {
            "tags": []
          }
        },
        {
          "output_type": "display_data",
          "data": {
            "application/vnd.jupyter.widget-view+json": {
              "model_id": "7df6c5dd2a794399bc66ebde68e41939",
              "version_minor": 0,
              "version_major": 2
            },
            "text/plain": [
              "Button(description='DESCRIBE', style=ButtonStyle())"
            ]
          },
          "metadata": {
            "tags": []
          }
        },
        {
          "output_type": "display_data",
          "data": {
            "application/vnd.jupyter.widget-view+json": {
              "model_id": "3deb5ca4bd0f47759962fe24b5226bdb",
              "version_minor": 0,
              "version_major": 2
            },
            "text/plain": [
              "Output()"
            ]
          },
          "metadata": {
            "tags": []
          }
        }
      ]
    },
    {
      "cell_type": "markdown",
      "metadata": {
        "id": "50pCJrJd5JzH"
      },
      "source": [
        "# Import packages"
      ]
    },
    {
      "cell_type": "code",
      "metadata": {
        "id": "kgYWfeC5sPCu"
      },
      "source": [
        "import pandas as pd\n",
        "import numpy as np\n",
        "from IPython.display import display"
      ],
      "execution_count": null,
      "outputs": []
    },
    {
      "cell_type": "markdown",
      "metadata": {
        "id": "EXiJ9r-U5UH7"
      },
      "source": [
        "# Import data"
      ]
    },
    {
      "cell_type": "code",
      "metadata": {
        "colab": {
          "base_uri": "https://localhost:8080/",
          "height": 204
        },
        "id": "qmDb1x0LsVVu",
        "outputId": "238b910e-034a-4824-8bbe-4d05d30b071d"
      },
      "source": [
        "data = pd.read_csv(\"https://archive.ics.uci.edu/ml/machine-learning-databases/glass/glass.data\",\n",
        "                   header = None)\n",
        "data.head(5)"
      ],
      "execution_count": null,
      "outputs": [
        {
          "output_type": "execute_result",
          "data": {
            "text/html": [
              "<div>\n",
              "<style scoped>\n",
              "    .dataframe tbody tr th:only-of-type {\n",
              "        vertical-align: middle;\n",
              "    }\n",
              "\n",
              "    .dataframe tbody tr th {\n",
              "        vertical-align: top;\n",
              "    }\n",
              "\n",
              "    .dataframe thead th {\n",
              "        text-align: right;\n",
              "    }\n",
              "</style>\n",
              "<table border=\"1\" class=\"dataframe\">\n",
              "  <thead>\n",
              "    <tr style=\"text-align: right;\">\n",
              "      <th></th>\n",
              "      <th>0</th>\n",
              "      <th>1</th>\n",
              "      <th>2</th>\n",
              "      <th>3</th>\n",
              "      <th>4</th>\n",
              "      <th>5</th>\n",
              "      <th>6</th>\n",
              "      <th>7</th>\n",
              "      <th>8</th>\n",
              "      <th>9</th>\n",
              "      <th>10</th>\n",
              "    </tr>\n",
              "  </thead>\n",
              "  <tbody>\n",
              "    <tr>\n",
              "      <th>0</th>\n",
              "      <td>1</td>\n",
              "      <td>1.52101</td>\n",
              "      <td>13.64</td>\n",
              "      <td>4.49</td>\n",
              "      <td>1.10</td>\n",
              "      <td>71.78</td>\n",
              "      <td>0.06</td>\n",
              "      <td>8.75</td>\n",
              "      <td>0.0</td>\n",
              "      <td>0.0</td>\n",
              "      <td>1</td>\n",
              "    </tr>\n",
              "    <tr>\n",
              "      <th>1</th>\n",
              "      <td>2</td>\n",
              "      <td>1.51761</td>\n",
              "      <td>13.89</td>\n",
              "      <td>3.60</td>\n",
              "      <td>1.36</td>\n",
              "      <td>72.73</td>\n",
              "      <td>0.48</td>\n",
              "      <td>7.83</td>\n",
              "      <td>0.0</td>\n",
              "      <td>0.0</td>\n",
              "      <td>1</td>\n",
              "    </tr>\n",
              "    <tr>\n",
              "      <th>2</th>\n",
              "      <td>3</td>\n",
              "      <td>1.51618</td>\n",
              "      <td>13.53</td>\n",
              "      <td>3.55</td>\n",
              "      <td>1.54</td>\n",
              "      <td>72.99</td>\n",
              "      <td>0.39</td>\n",
              "      <td>7.78</td>\n",
              "      <td>0.0</td>\n",
              "      <td>0.0</td>\n",
              "      <td>1</td>\n",
              "    </tr>\n",
              "    <tr>\n",
              "      <th>3</th>\n",
              "      <td>4</td>\n",
              "      <td>1.51766</td>\n",
              "      <td>13.21</td>\n",
              "      <td>3.69</td>\n",
              "      <td>1.29</td>\n",
              "      <td>72.61</td>\n",
              "      <td>0.57</td>\n",
              "      <td>8.22</td>\n",
              "      <td>0.0</td>\n",
              "      <td>0.0</td>\n",
              "      <td>1</td>\n",
              "    </tr>\n",
              "    <tr>\n",
              "      <th>4</th>\n",
              "      <td>5</td>\n",
              "      <td>1.51742</td>\n",
              "      <td>13.27</td>\n",
              "      <td>3.62</td>\n",
              "      <td>1.24</td>\n",
              "      <td>73.08</td>\n",
              "      <td>0.55</td>\n",
              "      <td>8.07</td>\n",
              "      <td>0.0</td>\n",
              "      <td>0.0</td>\n",
              "      <td>1</td>\n",
              "    </tr>\n",
              "  </tbody>\n",
              "</table>\n",
              "</div>"
            ],
            "text/plain": [
              "   0        1      2     3     4      5     6     7    8    9   10\n",
              "0   1  1.52101  13.64  4.49  1.10  71.78  0.06  8.75  0.0  0.0   1\n",
              "1   2  1.51761  13.89  3.60  1.36  72.73  0.48  7.83  0.0  0.0   1\n",
              "2   3  1.51618  13.53  3.55  1.54  72.99  0.39  7.78  0.0  0.0   1\n",
              "3   4  1.51766  13.21  3.69  1.29  72.61  0.57  8.22  0.0  0.0   1\n",
              "4   5  1.51742  13.27  3.62  1.24  73.08  0.55  8.07  0.0  0.0   1"
            ]
          },
          "metadata": {
            "tags": []
          },
          "execution_count": 30
        }
      ]
    },
    {
      "cell_type": "code",
      "metadata": {
        "colab": {
          "base_uri": "https://localhost:8080/",
          "height": 142
        },
        "id": "re8eBTlAsa56",
        "outputId": "0ad2b06b-03d7-47a4-a277-281c3d8fc71a"
      },
      "source": [
        "names = [\"Id\", \"RI\", \"Na\", \"Mg\", \"Al\", \"Si\", \"K\", \"Ca\", \"Ba\", \"Fe\", \"Class\"]\n",
        "data.columns = names\n",
        "data = data.drop(columns=['Id'])\n",
        "data.head(3)"
      ],
      "execution_count": null,
      "outputs": [
        {
          "output_type": "execute_result",
          "data": {
            "text/html": [
              "<div>\n",
              "<style scoped>\n",
              "    .dataframe tbody tr th:only-of-type {\n",
              "        vertical-align: middle;\n",
              "    }\n",
              "\n",
              "    .dataframe tbody tr th {\n",
              "        vertical-align: top;\n",
              "    }\n",
              "\n",
              "    .dataframe thead th {\n",
              "        text-align: right;\n",
              "    }\n",
              "</style>\n",
              "<table border=\"1\" class=\"dataframe\">\n",
              "  <thead>\n",
              "    <tr style=\"text-align: right;\">\n",
              "      <th></th>\n",
              "      <th>RI</th>\n",
              "      <th>Na</th>\n",
              "      <th>Mg</th>\n",
              "      <th>Al</th>\n",
              "      <th>Si</th>\n",
              "      <th>K</th>\n",
              "      <th>Ca</th>\n",
              "      <th>Ba</th>\n",
              "      <th>Fe</th>\n",
              "      <th>Class</th>\n",
              "    </tr>\n",
              "  </thead>\n",
              "  <tbody>\n",
              "    <tr>\n",
              "      <th>0</th>\n",
              "      <td>1.52101</td>\n",
              "      <td>13.64</td>\n",
              "      <td>4.49</td>\n",
              "      <td>1.10</td>\n",
              "      <td>71.78</td>\n",
              "      <td>0.06</td>\n",
              "      <td>8.75</td>\n",
              "      <td>0.0</td>\n",
              "      <td>0.0</td>\n",
              "      <td>1</td>\n",
              "    </tr>\n",
              "    <tr>\n",
              "      <th>1</th>\n",
              "      <td>1.51761</td>\n",
              "      <td>13.89</td>\n",
              "      <td>3.60</td>\n",
              "      <td>1.36</td>\n",
              "      <td>72.73</td>\n",
              "      <td>0.48</td>\n",
              "      <td>7.83</td>\n",
              "      <td>0.0</td>\n",
              "      <td>0.0</td>\n",
              "      <td>1</td>\n",
              "    </tr>\n",
              "    <tr>\n",
              "      <th>2</th>\n",
              "      <td>1.51618</td>\n",
              "      <td>13.53</td>\n",
              "      <td>3.55</td>\n",
              "      <td>1.54</td>\n",
              "      <td>72.99</td>\n",
              "      <td>0.39</td>\n",
              "      <td>7.78</td>\n",
              "      <td>0.0</td>\n",
              "      <td>0.0</td>\n",
              "      <td>1</td>\n",
              "    </tr>\n",
              "  </tbody>\n",
              "</table>\n",
              "</div>"
            ],
            "text/plain": [
              "        RI     Na    Mg    Al     Si     K    Ca   Ba   Fe  Class\n",
              "0  1.52101  13.64  4.49  1.10  71.78  0.06  8.75  0.0  0.0      1\n",
              "1  1.51761  13.89  3.60  1.36  72.73  0.48  7.83  0.0  0.0      1\n",
              "2  1.51618  13.53  3.55  1.54  72.99  0.39  7.78  0.0  0.0      1"
            ]
          },
          "metadata": {
            "tags": []
          },
          "execution_count": 31
        }
      ]
    },
    {
      "cell_type": "code",
      "metadata": {
        "colab": {
          "base_uri": "https://localhost:8080/"
        },
        "id": "IcBhZG0LsfAt",
        "outputId": "ac1bb620-bde4-4638-f3bc-6234032a1abf"
      },
      "source": [
        "data['Class'].replace({1:\"building_float\", \n",
        "                       2:\"building_non_float\", \n",
        "                       3:\"vehicle_float\",\n",
        "                       4:\"vehicle_non_float\",\n",
        "                       5:\"containers\",\n",
        "                       6:\"tableware\",\n",
        "                       7:\"headlamps\"}, inplace=True)\n",
        "data['Class'].value_counts()"
      ],
      "execution_count": null,
      "outputs": [
        {
          "output_type": "execute_result",
          "data": {
            "text/plain": [
              "building_non_float    76\n",
              "building_float        70\n",
              "headlamps             29\n",
              "vehicle_float         17\n",
              "containers            13\n",
              "tableware              9\n",
              "Name: Class, dtype: int64"
            ]
          },
          "metadata": {
            "tags": []
          },
          "execution_count": 32
        }
      ]
    },
    {
      "cell_type": "code",
      "metadata": {
        "colab": {
          "base_uri": "https://localhost:8080/"
        },
        "id": "wlefSnl-sh62",
        "outputId": "4707cdcf-f713-4258-b5db-774a7c36848f"
      },
      "source": [
        "data.info()"
      ],
      "execution_count": null,
      "outputs": [
        {
          "output_type": "stream",
          "text": [
            "<class 'pandas.core.frame.DataFrame'>\n",
            "RangeIndex: 214 entries, 0 to 213\n",
            "Data columns (total 10 columns):\n",
            " #   Column  Non-Null Count  Dtype  \n",
            "---  ------  --------------  -----  \n",
            " 0   RI      214 non-null    float64\n",
            " 1   Na      214 non-null    float64\n",
            " 2   Mg      214 non-null    float64\n",
            " 3   Al      214 non-null    float64\n",
            " 4   Si      214 non-null    float64\n",
            " 5   K       214 non-null    float64\n",
            " 6   Ca      214 non-null    float64\n",
            " 7   Ba      214 non-null    float64\n",
            " 8   Fe      214 non-null    float64\n",
            " 9   Class   214 non-null    object \n",
            "dtypes: float64(9), object(1)\n",
            "memory usage: 16.8+ KB\n"
          ],
          "name": "stdout"
        }
      ]
    },
    {
      "cell_type": "code",
      "metadata": {
        "id": "dt6KHLj4sjUY"
      },
      "source": [
        " for col in data.columns:\n",
        "      fr = np.random.randint(5,10)/100\n",
        "      data.loc[data.sample(frac=fr).index, col] = np.nan"
      ],
      "execution_count": null,
      "outputs": []
    },
    {
      "cell_type": "markdown",
      "metadata": {
        "id": "ely-Tqiq5cei"
      },
      "source": [
        "# Data visualization"
      ]
    },
    {
      "cell_type": "code",
      "metadata": {
        "colab": {
          "base_uri": "https://localhost:8080/"
        },
        "id": "xCPR06PMsnI4",
        "outputId": "228d16b4-2146-4856-e9f6-54b264a57197"
      },
      "source": [
        "data.info()"
      ],
      "execution_count": null,
      "outputs": [
        {
          "output_type": "stream",
          "text": [
            "<class 'pandas.core.frame.DataFrame'>\n",
            "RangeIndex: 214 entries, 0 to 213\n",
            "Data columns (total 10 columns):\n",
            " #   Column  Non-Null Count  Dtype  \n",
            "---  ------  --------------  -----  \n",
            " 0   RI      197 non-null    float64\n",
            " 1   Na      197 non-null    float64\n",
            " 2   Mg      199 non-null    float64\n",
            " 3   Al      201 non-null    float64\n",
            " 4   Si      201 non-null    float64\n",
            " 5   K       201 non-null    float64\n",
            " 6   Ca      195 non-null    float64\n",
            " 7   Ba      201 non-null    float64\n",
            " 8   Fe      197 non-null    float64\n",
            " 9   Class   195 non-null    object \n",
            "dtypes: float64(9), object(1)\n",
            "memory usage: 16.8+ KB\n"
          ],
          "name": "stdout"
        }
      ]
    },
    {
      "cell_type": "code",
      "metadata": {
        "colab": {
          "base_uri": "https://localhost:8080/",
          "height": 297
        },
        "id": "GrVxc7vrs3FL",
        "outputId": "facb4fac-705a-4623-8b11-be2c8ccbd1a2"
      },
      "source": [
        "data.describe()"
      ],
      "execution_count": null,
      "outputs": [
        {
          "output_type": "execute_result",
          "data": {
            "text/html": [
              "<div>\n",
              "<style scoped>\n",
              "    .dataframe tbody tr th:only-of-type {\n",
              "        vertical-align: middle;\n",
              "    }\n",
              "\n",
              "    .dataframe tbody tr th {\n",
              "        vertical-align: top;\n",
              "    }\n",
              "\n",
              "    .dataframe thead th {\n",
              "        text-align: right;\n",
              "    }\n",
              "</style>\n",
              "<table border=\"1\" class=\"dataframe\">\n",
              "  <thead>\n",
              "    <tr style=\"text-align: right;\">\n",
              "      <th></th>\n",
              "      <th>RI</th>\n",
              "      <th>Na</th>\n",
              "      <th>Mg</th>\n",
              "      <th>Al</th>\n",
              "      <th>Si</th>\n",
              "      <th>K</th>\n",
              "      <th>Ca</th>\n",
              "      <th>Ba</th>\n",
              "      <th>Fe</th>\n",
              "    </tr>\n",
              "  </thead>\n",
              "  <tbody>\n",
              "    <tr>\n",
              "      <th>count</th>\n",
              "      <td>197.000000</td>\n",
              "      <td>197.000000</td>\n",
              "      <td>199.000000</td>\n",
              "      <td>201.000000</td>\n",
              "      <td>201.000000</td>\n",
              "      <td>201.000000</td>\n",
              "      <td>195.000000</td>\n",
              "      <td>201.000000</td>\n",
              "      <td>197.000000</td>\n",
              "    </tr>\n",
              "    <tr>\n",
              "      <th>mean</th>\n",
              "      <td>1.518291</td>\n",
              "      <td>13.409086</td>\n",
              "      <td>2.658693</td>\n",
              "      <td>1.441990</td>\n",
              "      <td>72.641841</td>\n",
              "      <td>0.504776</td>\n",
              "      <td>8.977333</td>\n",
              "      <td>0.169005</td>\n",
              "      <td>0.057614</td>\n",
              "    </tr>\n",
              "    <tr>\n",
              "      <th>std</th>\n",
              "      <td>0.003027</td>\n",
              "      <td>0.813667</td>\n",
              "      <td>1.455064</td>\n",
              "      <td>0.500431</td>\n",
              "      <td>0.762214</td>\n",
              "      <td>0.669483</td>\n",
              "      <td>1.450053</td>\n",
              "      <td>0.494740</td>\n",
              "      <td>0.098705</td>\n",
              "    </tr>\n",
              "    <tr>\n",
              "      <th>min</th>\n",
              "      <td>1.511150</td>\n",
              "      <td>10.730000</td>\n",
              "      <td>0.000000</td>\n",
              "      <td>0.290000</td>\n",
              "      <td>69.810000</td>\n",
              "      <td>0.000000</td>\n",
              "      <td>5.430000</td>\n",
              "      <td>0.000000</td>\n",
              "      <td>0.000000</td>\n",
              "    </tr>\n",
              "    <tr>\n",
              "      <th>25%</th>\n",
              "      <td>1.516460</td>\n",
              "      <td>12.900000</td>\n",
              "      <td>1.865000</td>\n",
              "      <td>1.190000</td>\n",
              "      <td>72.280000</td>\n",
              "      <td>0.120000</td>\n",
              "      <td>8.225000</td>\n",
              "      <td>0.000000</td>\n",
              "      <td>0.000000</td>\n",
              "    </tr>\n",
              "    <tr>\n",
              "      <th>50%</th>\n",
              "      <td>1.517680</td>\n",
              "      <td>13.300000</td>\n",
              "      <td>3.480000</td>\n",
              "      <td>1.360000</td>\n",
              "      <td>72.810000</td>\n",
              "      <td>0.560000</td>\n",
              "      <td>8.590000</td>\n",
              "      <td>0.000000</td>\n",
              "      <td>0.000000</td>\n",
              "    </tr>\n",
              "    <tr>\n",
              "      <th>75%</th>\n",
              "      <td>1.519050</td>\n",
              "      <td>13.800000</td>\n",
              "      <td>3.600000</td>\n",
              "      <td>1.630000</td>\n",
              "      <td>73.090000</td>\n",
              "      <td>0.610000</td>\n",
              "      <td>9.220000</td>\n",
              "      <td>0.000000</td>\n",
              "      <td>0.100000</td>\n",
              "    </tr>\n",
              "    <tr>\n",
              "      <th>max</th>\n",
              "      <td>1.533930</td>\n",
              "      <td>17.380000</td>\n",
              "      <td>4.490000</td>\n",
              "      <td>3.500000</td>\n",
              "      <td>75.180000</td>\n",
              "      <td>6.210000</td>\n",
              "      <td>16.190000</td>\n",
              "      <td>3.150000</td>\n",
              "      <td>0.510000</td>\n",
              "    </tr>\n",
              "  </tbody>\n",
              "</table>\n",
              "</div>"
            ],
            "text/plain": [
              "               RI          Na          Mg  ...          Ca          Ba          Fe\n",
              "count  197.000000  197.000000  199.000000  ...  195.000000  201.000000  197.000000\n",
              "mean     1.518291   13.409086    2.658693  ...    8.977333    0.169005    0.057614\n",
              "std      0.003027    0.813667    1.455064  ...    1.450053    0.494740    0.098705\n",
              "min      1.511150   10.730000    0.000000  ...    5.430000    0.000000    0.000000\n",
              "25%      1.516460   12.900000    1.865000  ...    8.225000    0.000000    0.000000\n",
              "50%      1.517680   13.300000    3.480000  ...    8.590000    0.000000    0.000000\n",
              "75%      1.519050   13.800000    3.600000  ...    9.220000    0.000000    0.100000\n",
              "max      1.533930   17.380000    4.490000  ...   16.190000    3.150000    0.510000\n",
              "\n",
              "[8 rows x 9 columns]"
            ]
          },
          "metadata": {
            "tags": []
          },
          "execution_count": 36
        }
      ]
    },
    {
      "cell_type": "code",
      "metadata": {
        "colab": {
          "base_uri": "https://localhost:8080/",
          "height": 255
        },
        "id": "1N_J9OgKs8nj",
        "outputId": "0771458d-a1b9-4cad-8114-5942db7edfa1"
      },
      "source": [
        "print('_______________________')\n",
        "display(data['Class'].describe())\n",
        "print('_______________________')\n",
        "display(data['Class'].value_counts())"
      ],
      "execution_count": null,
      "outputs": [
        {
          "output_type": "stream",
          "text": [
            "_______________________\n"
          ],
          "name": "stdout"
        },
        {
          "output_type": "display_data",
          "data": {
            "text/plain": [
              "count                    195\n",
              "unique                     6\n",
              "top       building_non_float\n",
              "freq                      69\n",
              "Name: Class, dtype: object"
            ]
          },
          "metadata": {
            "tags": []
          }
        },
        {
          "output_type": "stream",
          "text": [
            "_______________________\n"
          ],
          "name": "stdout"
        },
        {
          "output_type": "display_data",
          "data": {
            "text/plain": [
              "building_non_float    69\n",
              "building_float        64\n",
              "headlamps             26\n",
              "vehicle_float         15\n",
              "containers            12\n",
              "tableware              9\n",
              "Name: Class, dtype: int64"
            ]
          },
          "metadata": {
            "tags": []
          }
        }
      ]
    },
    {
      "cell_type": "markdown",
      "metadata": {
        "id": "d3_e93kL5nQn"
      },
      "source": [
        "# Git"
      ]
    },
    {
      "cell_type": "code",
      "metadata": {
        "colab": {
          "base_uri": "https://localhost:8080/"
        },
        "id": "RtDCP7s2s_8J",
        "outputId": "5791066f-8633-4644-d649-3a5e80ca60ea"
      },
      "source": [
        "!git init"
      ],
      "execution_count": null,
      "outputs": [
        {
          "output_type": "stream",
          "text": [
            "Initialized empty Git repository in /content/.git/\n"
          ],
          "name": "stdout"
        }
      ]
    },
    {
      "cell_type": "code",
      "metadata": {
        "id": "KcK7YqbHtEaY"
      },
      "source": [
        "!git config --global user.email bryukhanova.polina@gmail.ru\n",
        "!git config --global user.name Mary"
      ],
      "execution_count": null,
      "outputs": []
    },
    {
      "cell_type": "code",
      "metadata": {
        "colab": {
          "base_uri": "https://localhost:8080/"
        },
        "id": "EomdpsmEtNAp",
        "outputId": "d7cb53e0-c791-4166-ca40-0c00f0bd5d73"
      },
      "source": [
        "!git status"
      ],
      "execution_count": null,
      "outputs": [
        {
          "output_type": "stream",
          "text": [
            "On branch master\n",
            "\n",
            "No commits yet\n",
            "\n",
            "Untracked files:\n",
            "  (use \"git add <file>...\" to include in what will be committed)\n",
            "\n",
            "\t\u001b[31m.config/\u001b[m\n",
            "\t\u001b[31mPR3/\u001b[m\n",
            "\t\u001b[31msample_data/\u001b[m\n",
            "\n",
            "nothing added to commit but untracked files present (use \"git add\" to track)\n"
          ],
          "name": "stdout"
        }
      ]
    },
    {
      "cell_type": "code",
      "metadata": {
        "id": "1oYLR1PptY-s",
        "colab": {
          "base_uri": "https://localhost:8080/"
        },
        "outputId": "69a580a0-2e79-4dc0-d914-7fbdc82b9512"
      },
      "source": [
        "from google.colab import drive\n",
        "drive.mount('/content/PR3')"
      ],
      "execution_count": null,
      "outputs": [
        {
          "output_type": "stream",
          "text": [
            "Drive already mounted at /content/PR3; to attempt to forcibly remount, call drive.mount(\"/content/PR3\", force_remount=True).\n"
          ],
          "name": "stdout"
        }
      ]
    },
    {
      "cell_type": "markdown",
      "metadata": {
        "id": "a8rKHuq86C69"
      },
      "source": [
        "# ..."
      ]
    },
    {
      "cell_type": "code",
      "metadata": {
        "id": "Eaux19FsuvQT",
        "colab": {
          "base_uri": "https://localhost:8080/"
        },
        "outputId": "f0e6d60f-4dbb-4d0b-ca06-0e563df0ed13"
      },
      "source": [
        "data['Al'].isna().sum()"
      ],
      "execution_count": null,
      "outputs": [
        {
          "output_type": "execute_result",
          "data": {
            "text/plain": [
              "13"
            ]
          },
          "metadata": {
            "tags": []
          },
          "execution_count": 45
        }
      ]
    },
    {
      "cell_type": "code",
      "metadata": {
        "id": "Fts13I6nuy6E",
        "colab": {
          "base_uri": "https://localhost:8080/"
        },
        "outputId": "5dfa1486-bee9-4ee8-d8d9-d034f02bd8fa"
      },
      "source": [
        "for col in data.columns:\n",
        "  missing_values_counts = data[col].isna().sum()\n",
        "  percentage = 100*missing_values_counts/len(data[col])\n",
        "  print(\"Column\", col, \"contains\", missing_values_counts, \"NULL values(\", percentage, \"% ).\")"
      ],
      "execution_count": null,
      "outputs": [
        {
          "output_type": "stream",
          "text": [
            "Column RI contains 17 NULL values( 7.94392523364486 % ).\n",
            "Column Na contains 17 NULL values( 7.94392523364486 % ).\n",
            "Column Mg contains 15 NULL values( 7.009345794392523 % ).\n",
            "Column Al contains 13 NULL values( 6.074766355140187 % ).\n",
            "Column Si contains 13 NULL values( 6.074766355140187 % ).\n",
            "Column K contains 13 NULL values( 6.074766355140187 % ).\n",
            "Column Ca contains 19 NULL values( 8.878504672897197 % ).\n",
            "Column Ba contains 13 NULL values( 6.074766355140187 % ).\n",
            "Column Fe contains 17 NULL values( 7.94392523364486 % ).\n",
            "Column Class contains 19 NULL values( 8.878504672897197 % ).\n"
          ],
          "name": "stdout"
        }
      ]
    },
    {
      "cell_type": "code",
      "metadata": {
        "id": "67n5nwE0u3be"
      },
      "source": [
        "import matplotlib.pyplot as plt\n",
        "import seaborn as sns"
      ],
      "execution_count": null,
      "outputs": []
    },
    {
      "cell_type": "markdown",
      "metadata": {
        "id": "OMWGazmx6WKY"
      },
      "source": [
        "# Histograms"
      ]
    },
    {
      "cell_type": "code",
      "metadata": {
        "id": "Ig6mfQrSu5Lm",
        "colab": {
          "base_uri": "https://localhost:8080/",
          "height": 309
        },
        "outputId": "dd57d7aa-000d-45ff-ca13-717644684b0b"
      },
      "source": [
        "col='Fe'\n",
        "fig, ax = plt.subplots()\n",
        "ax.hist(data[col], bins=15)\n",
        "ax.set_xlabel(col, fontsize=20)\n",
        "ax.set_title(\"Гистограмма для  \" + str(col), fontsize=20)\n",
        "plt.show()"
      ],
      "execution_count": null,
      "outputs": [
        {
          "output_type": "display_data",
          "data": {
            "image/png": "[encoded data removed]",
            "text/plain": [
              "<Figure size 432x288 with 1 Axes>"
            ]
          },
          "metadata": {
            "tags": [],
            "needs_background": "light"
          }
        }
      ]
    },
    {
      "cell_type": "code",
      "metadata": {
        "id": "oGzbNgEEu-8g",
        "colab": {
          "base_uri": "https://localhost:8080/",
          "height": 290
        },
        "outputId": "7df1d2ec-1520-42d0-83a1-014bb021663a"
      },
      "source": [
        "ax = data[col].plot(kind='hist')\n",
        "ax.set_xlabel(col, fontsize=20)\n",
        "plt.show()"
      ],
      "execution_count": null,
      "outputs": [
        {
          "output_type": "display_data",
          "data": {
            "image/png": "[encoded data removed]",
            "text/plain": [
              "<Figure size 432x288 with 1 Axes>"
            ]
          },
          "metadata": {
            "tags": [],
            "needs_background": "light"
          }
        }
      ]
    },
    {
      "cell_type": "code",
      "metadata": {
        "id": "tYpiyvzevCyV",
        "colab": {
          "base_uri": "https://localhost:8080/",
          "height": 279
        },
        "outputId": "e594292d-356d-440a-f544-3757c25ba3fd"
      },
      "source": [
        "sns.histplot(data=data, x=col, kde=True, stat='probability', bins=8)\n",
        "plt.show()"
      ],
      "execution_count": null,
      "outputs": [
        {
          "output_type": "display_data",
          "data": {
            "image/png": "[encoded data removed]",
            "text/plain": [
              "<Figure size 432x288 with 1 Axes>"
            ]
          },
          "metadata": {
            "tags": [],
            "needs_background": "light"
          }
        }
      ]
    },
    {
      "cell_type": "markdown",
      "metadata": {
        "id": "D619OIhQ6fWw"
      },
      "source": [
        "# Bar"
      ]
    },
    {
      "cell_type": "code",
      "metadata": {
        "id": "CVElsN0svE0F",
        "colab": {
          "base_uri": "https://localhost:8080/",
          "height": 521
        },
        "outputId": "cf97eca6-7e99-47c9-b7a8-9dc2d8db04fb"
      },
      "source": [
        "col='Class'\n",
        "\n",
        "fig, ax = plt.subplots(figsize=(12,6))\n",
        "\n",
        "ax.bar(data[col].value_counts().index.values, \n",
        "       data[col].value_counts().values)\n",
        "\n",
        "ax.set_xlabel(None, fontsize=20)\n",
        "ax.set_title('Barplot для '+str(col), fontsize=30)\n",
        "ax.tick_params(axis='x', which='major', \n",
        "               labelsize=14, rotation=75)\n",
        "\n",
        "plt.show()"
      ],
      "execution_count": null,
      "outputs": [
        {
          "output_type": "display_data",
          "data": {
            "image/png": "[encoded data removed]",
            "text/plain": [
              "<Figure size 864x432 with 1 Axes>"
            ]
          },
          "metadata": {
            "tags": [],
            "needs_background": "light"
          }
        }
      ]
    },
    {
      "cell_type": "markdown",
      "metadata": {
        "id": "BSWt5-rE6kfQ"
      },
      "source": [
        "# Boxplot"
      ]
    },
    {
      "cell_type": "code",
      "metadata": {
        "id": "dErBgd5ZvLMp",
        "colab": {
          "base_uri": "https://localhost:8080/",
          "height": 265
        },
        "outputId": "2d46276a-d517-4081-8026-c50218dcb111"
      },
      "source": [
        "col='Fe'\n",
        "\n",
        "fig, ax = plt.subplots()\n",
        "\n",
        "data1 = data[col][~np.isnan(data[col])].copy()\n",
        "\n",
        "ax.boxplot(data1, showmeans=True) \n",
        "\n",
        "plt.show()"
      ],
      "execution_count": null,
      "outputs": [
        {
          "output_type": "display_data",
          "data": {
            "image/png": "[encoded data removed]",
            "text/plain": [
              "<Figure size 432x288 with 1 Axes>"
            ]
          },
          "metadata": {
            "tags": [],
            "needs_background": "light"
          }
        }
      ]
    },
    {
      "cell_type": "code",
      "metadata": {
        "id": "vAII-w2MvNEG",
        "colab": {
          "base_uri": "https://localhost:8080/",
          "height": 265
        },
        "outputId": "1aea3404-8300-43ce-d0fd-8c4131be913b"
      },
      "source": [
        "data[col].plot(kind='box')\n",
        "plt.show()"
      ],
      "execution_count": null,
      "outputs": [
        {
          "output_type": "display_data",
          "data": {
            "image/png": "[encoded data removed]",
            "text/plain": [
              "<Figure size 432x288 with 1 Axes>"
            ]
          },
          "metadata": {
            "tags": [],
            "needs_background": "light"
          }
        }
      ]
    },
    {
      "cell_type": "code",
      "metadata": {
        "id": "DVNqLgQyvP2j",
        "colab": {
          "base_uri": "https://localhost:8080/",
          "height": 319
        },
        "outputId": "43ff39af-e789-46ad-85c1-15afd33e0797"
      },
      "source": [
        "data.plot(kind='box')\n",
        "plt.show()"
      ],
      "execution_count": null,
      "outputs": [
        {
          "output_type": "stream",
          "text": [
            "/usr/local/lib/python3.7/dist-packages/numpy/core/_asarray.py:83: VisibleDeprecationWarning: Creating an ndarray from ragged nested sequences (which is a list-or-tuple of lists-or-tuples-or ndarrays with different lengths or shapes) is deprecated. If you meant to do this, you must specify 'dtype=object' when creating the ndarray\n",
            "  return array(a, dtype, copy=False, order=order)\n"
          ],
          "name": "stderr"
        },
        {
          "output_type": "display_data",
          "data": {
            "image/png": "[encoded data removed]",
            "text/plain": [
              "<Figure size 432x288 with 1 Axes>"
            ]
          },
          "metadata": {
            "tags": [],
            "needs_background": "light"
          }
        }
      ]
    },
    {
      "cell_type": "code",
      "metadata": {
        "id": "aQTchG83vTJz",
        "colab": {
          "base_uri": "https://localhost:8080/",
          "height": 265
        },
        "outputId": "d8f23d2b-a9ae-4f05-eb6d-a164b673a0d6"
      },
      "source": [
        "sns.boxplot(data=data[data.columns.values[data.columns.values != \"Si\"]])\n",
        "plt.show()"
      ],
      "execution_count": null,
      "outputs": [
        {
          "output_type": "display_data",
          "data": {
            "image/png": "[encoded data removed]",
            "text/plain": [
              "<Figure size 432x288 with 1 Axes>"
            ]
          },
          "metadata": {
            "tags": [],
            "needs_background": "light"
          }
        }
      ]
    },
    {
      "cell_type": "code",
      "metadata": {
        "id": "IrHzXfnXvWfe",
        "colab": {
          "base_uri": "https://localhost:8080/"
        },
        "outputId": "2dd56c18-6f74-41d0-8027-eb2990652cab"
      },
      "source": [
        "data.columns.values[data.columns.values != \"Si\"]"
      ],
      "execution_count": null,
      "outputs": [
        {
          "output_type": "execute_result",
          "data": {
            "text/plain": [
              "array(['RI', 'Na', 'Mg', 'Al', 'K', 'Ca', 'Ba', 'Fe', 'Class'],\n",
              "      dtype=object)"
            ]
          },
          "metadata": {
            "tags": []
          },
          "execution_count": 78
        }
      ]
    },
    {
      "cell_type": "markdown",
      "metadata": {
        "id": "WTH60c5u67SC"
      },
      "source": [
        "# Scaling"
      ]
    },
    {
      "cell_type": "code",
      "metadata": {
        "id": "Jj_yo3wg6-4O"
      },
      "source": [
        "import sklearn.preprocessing as prepro"
      ],
      "execution_count": null,
      "outputs": []
    },
    {
      "cell_type": "code",
      "metadata": {
        "id": "Z3fDfiNt7Bbn"
      },
      "source": [
        "scaler1 = prepro.MinMaxScaler()\n",
        "data1 = scaler1.fit_transform(data[data.columns.values[data.columns.values!='Class']])\n",
        "data1 = pd.DataFrame(data1)"
      ],
      "execution_count": null,
      "outputs": []
    },
    {
      "cell_type": "code",
      "metadata": {
        "colab": {
          "base_uri": "https://localhost:8080/",
          "height": 265
        },
        "id": "VIL23jSQ7ElL",
        "outputId": "b5afaf09-f7e2-4bc4-9e8a-6090769984bb"
      },
      "source": [
        "sns.boxplot(data=data1)\n",
        "plt.show()"
      ],
      "execution_count": null,
      "outputs": [
        {
          "output_type": "display_data",
          "data": {
            "image/png": "[encoded data removed]",
            "text/plain": [
              "<Figure size 432x288 with 1 Axes>"
            ]
          },
          "metadata": {
            "tags": [],
            "needs_background": "light"
          }
        }
      ]
    },
    {
      "cell_type": "code",
      "metadata": {
        "colab": {
          "base_uri": "https://localhost:8080/",
          "height": 319
        },
        "id": "ydDC2U9Q7GuV",
        "outputId": "7f32b39f-fede-4bdc-cf93-85cd6026b50a"
      },
      "source": [
        "data1.plot(kind='box')\n",
        "plt.show()"
      ],
      "execution_count": null,
      "outputs": [
        {
          "output_type": "stream",
          "text": [
            "/usr/local/lib/python3.7/dist-packages/numpy/core/_asarray.py:83: VisibleDeprecationWarning: Creating an ndarray from ragged nested sequences (which is a list-or-tuple of lists-or-tuples-or ndarrays with different lengths or shapes) is deprecated. If you meant to do this, you must specify 'dtype=object' when creating the ndarray\n",
            "  return array(a, dtype, copy=False, order=order)\n"
          ],
          "name": "stderr"
        },
        {
          "output_type": "display_data",
          "data": {
            "image/png": "[encoded data removed]",
            "text/plain": [
              "<Figure size 432x288 with 1 Axes>"
            ]
          },
          "metadata": {
            "tags": [],
            "needs_background": "light"
          }
        }
      ]
    },
    {
      "cell_type": "code",
      "metadata": {
        "id": "sLrKMRf37LJP"
      },
      "source": [
        "scaler2 = prepro.StandardScaler()\n",
        "data2 = scaler1.fit_transform(data[data.columns.values[data.columns.values!='Class']])\n",
        "data2 = pd.DataFrame(data2)"
      ],
      "execution_count": null,
      "outputs": []
    },
    {
      "cell_type": "code",
      "metadata": {
        "colab": {
          "base_uri": "https://localhost:8080/",
          "height": 265
        },
        "id": "t5p8GvPH7N4K",
        "outputId": "2f76cb08-1dd4-4845-837d-8d4d0b36d633"
      },
      "source": [
        "sns.boxplot(data=data2)\n",
        "plt.show()"
      ],
      "execution_count": null,
      "outputs": [
        {
          "output_type": "display_data",
          "data": {
            "image/png": "[encoded data removed]",
            "text/plain": [
              "<Figure size 432x288 with 1 Axes>"
            ]
          },
          "metadata": {
            "tags": [],
            "needs_background": "light"
          }
        }
      ]
    },
    {
      "cell_type": "markdown",
      "metadata": {
        "id": "RqyKro0n7QsL"
      },
      "source": [
        "# Pairplot"
      ]
    },
    {
      "cell_type": "code",
      "metadata": {
        "id": "aOMhCQz77TZX"
      },
      "source": [
        "col1 = 'Mg'\n",
        "col2 = 'Fe'"
      ],
      "execution_count": null,
      "outputs": []
    },
    {
      "cell_type": "code",
      "metadata": {
        "colab": {
          "base_uri": "https://localhost:8080/",
          "height": 279
        },
        "id": "8zfcat0g7Wv7",
        "outputId": "6302ac6f-05ac-4542-9604-825d7c215370"
      },
      "source": [
        "fig, ax = plt.subplots()\n",
        " \n",
        "ax.scatter(data[col1], data[col2])\n",
        "ax.set_xlabel(col1)\n",
        "ax.set_ylabel(col2)\n",
        " \n",
        "plt.show()"
      ],
      "execution_count": null,
      "outputs": [
        {
          "output_type": "display_data",
          "data": {
            "image/png": "[encoded data removed]",
            "text/plain": [
              "<Figure size 432x288 with 1 Axes>"
            ]
          },
          "metadata": {
            "tags": [],
            "needs_background": "light"
          }
        }
      ]
    },
    {
      "cell_type": "markdown",
      "metadata": {
        "id": "pweU8vt_7a2G"
      },
      "source": [
        "# NaN"
      ]
    },
    {
      "cell_type": "code",
      "metadata": {
        "colab": {
          "base_uri": "https://localhost:8080/"
        },
        "id": "mkdeHhgm7X3n",
        "outputId": "490d8b94-d12a-4634-be88-b4df7c97f6b9"
      },
      "source": [
        "data.mean()"
      ],
      "execution_count": null,
      "outputs": [
        {
          "output_type": "execute_result",
          "data": {
            "text/plain": [
              "RI     1.518291\n",
              "Na    13.409086\n",
              "Mg     2.658693\n",
              "Al     1.441990\n",
              "Si    72.641841\n",
              "K      0.504776\n",
              "Ca     8.977333\n",
              "Ba     0.169005\n",
              "Fe     0.057614\n",
              "dtype: float64"
            ]
          },
          "metadata": {
            "tags": []
          },
          "execution_count": 87
        }
      ]
    },
    {
      "cell_type": "code",
      "metadata": {
        "colab": {
          "base_uri": "https://localhost:8080/"
        },
        "id": "gjBUm4eR7fAe",
        "outputId": "ae163709-5245-407c-8c0d-7c9560ea1b05"
      },
      "source": [
        "data_fillna_mean = data.fillna(data.mean()).copy()\n",
        "data_fillna_mean.info()"
      ],
      "execution_count": null,
      "outputs": [
        {
          "output_type": "stream",
          "text": [
            "<class 'pandas.core.frame.DataFrame'>\n",
            "RangeIndex: 214 entries, 0 to 213\n",
            "Data columns (total 10 columns):\n",
            " #   Column  Non-Null Count  Dtype  \n",
            "---  ------  --------------  -----  \n",
            " 0   RI      214 non-null    float64\n",
            " 1   Na      214 non-null    float64\n",
            " 2   Mg      214 non-null    float64\n",
            " 3   Al      214 non-null    float64\n",
            " 4   Si      214 non-null    float64\n",
            " 5   K       214 non-null    float64\n",
            " 6   Ca      214 non-null    float64\n",
            " 7   Ba      214 non-null    float64\n",
            " 8   Fe      214 non-null    float64\n",
            " 9   Class   195 non-null    object \n",
            "dtypes: float64(9), object(1)\n",
            "memory usage: 16.8+ KB\n"
          ],
          "name": "stdout"
        }
      ]
    },
    {
      "cell_type": "code",
      "metadata": {
        "colab": {
          "base_uri": "https://localhost:8080/"
        },
        "id": "zUIlElCS7hhC",
        "outputId": "d1f76433-fd27-472c-c52d-0a1bb9e747cd"
      },
      "source": [
        "data['Class'].value_counts()"
      ],
      "execution_count": null,
      "outputs": [
        {
          "output_type": "execute_result",
          "data": {
            "text/plain": [
              "building_non_float    69\n",
              "building_float        64\n",
              "headlamps             26\n",
              "vehicle_float         15\n",
              "containers            12\n",
              "tableware              9\n",
              "Name: Class, dtype: int64"
            ]
          },
          "metadata": {
            "tags": []
          },
          "execution_count": 89
        }
      ]
    },
    {
      "cell_type": "code",
      "metadata": {
        "colab": {
          "base_uri": "https://localhost:8080/",
          "height": 35
        },
        "id": "7gHRWT0A7lTf",
        "outputId": "c22ac17c-83fe-4b40-bf79-ceb8fe959525"
      },
      "source": [
        "data['Class'].value_counts().index.values[0]"
      ],
      "execution_count": null,
      "outputs": [
        {
          "output_type": "execute_result",
          "data": {
            "application/vnd.google.colaboratory.intrinsic+json": {
              "type": "string"
            },
            "text/plain": [
              "'building_non_float'"
            ]
          },
          "metadata": {
            "tags": []
          },
          "execution_count": 90
        }
      ]
    },
    {
      "cell_type": "code",
      "metadata": {
        "colab": {
          "base_uri": "https://localhost:8080/"
        },
        "id": "7OhmL1Wu7olM",
        "outputId": "227b3ea6-9361-4f8e-856a-b12bb9ed3ce6"
      },
      "source": [
        "data['Class'].mode()"
      ],
      "execution_count": null,
      "outputs": [
        {
          "output_type": "execute_result",
          "data": {
            "text/plain": [
              "0    building_non_float\n",
              "dtype: object"
            ]
          },
          "metadata": {
            "tags": []
          },
          "execution_count": 91
        }
      ]
    },
    {
      "cell_type": "code",
      "metadata": {
        "colab": {
          "base_uri": "https://localhost:8080/"
        },
        "id": "hYTk4RiX7q-4",
        "outputId": "d2a276c5-c568-4f55-9e70-baf6b1731090"
      },
      "source": [
        "data_fillna_mean['Class'].fillna(data['Class'].value_counts().index.values[0], inplace = True)\n",
        "data_fillna_mean.info()"
      ],
      "execution_count": null,
      "outputs": [
        {
          "output_type": "stream",
          "text": [
            "<class 'pandas.core.frame.DataFrame'>\n",
            "RangeIndex: 214 entries, 0 to 213\n",
            "Data columns (total 10 columns):\n",
            " #   Column  Non-Null Count  Dtype  \n",
            "---  ------  --------------  -----  \n",
            " 0   RI      214 non-null    float64\n",
            " 1   Na      214 non-null    float64\n",
            " 2   Mg      214 non-null    float64\n",
            " 3   Al      214 non-null    float64\n",
            " 4   Si      214 non-null    float64\n",
            " 5   K       214 non-null    float64\n",
            " 6   Ca      214 non-null    float64\n",
            " 7   Ba      214 non-null    float64\n",
            " 8   Fe      214 non-null    float64\n",
            " 9   Class   214 non-null    object \n",
            "dtypes: float64(9), object(1)\n",
            "memory usage: 16.8+ KB\n"
          ],
          "name": "stdout"
        }
      ]
    },
    {
      "cell_type": "markdown",
      "metadata": {
        "id": "3AbAus4P7uj4"
      },
      "source": [
        "# PCA"
      ]
    },
    {
      "cell_type": "code",
      "metadata": {
        "id": "w0nH11xF7sMY"
      },
      "source": [
        "from sklearn.decomposition import PCA"
      ],
      "execution_count": null,
      "outputs": []
    },
    {
      "cell_type": "code",
      "metadata": {
        "colab": {
          "base_uri": "https://localhost:8080/"
        },
        "id": "0A1GdRFn71ns",
        "outputId": "fefd650c-3afc-4d7d-cfa4-e919b8319ab4"
      },
      "source": [
        "pca = PCA()\n",
        "pca.fit(data_fillna_mean[data_fillna_mean.columns.values [data_fillna_mean.columns.values  != 'Class']] )"
      ],
      "execution_count": null,
      "outputs": [
        {
          "output_type": "execute_result",
          "data": {
            "text/plain": [
              "PCA(copy=True, iterated_power='auto', n_components=None, random_state=None,\n",
              "    svd_solver='auto', tol=0.0, whiten=False)"
            ]
          },
          "metadata": {
            "tags": []
          },
          "execution_count": 94
        }
      ]
    },
    {
      "cell_type": "code",
      "metadata": {
        "colab": {
          "base_uri": "https://localhost:8080/"
        },
        "id": "srA1Q9Iu731E",
        "outputId": "4eea08fb-7179-4e33-a0a1-1e192f1b1bfe"
      },
      "source": [
        "print(pca.explained_variance_ratio_*100)"
      ],
      "execution_count": null,
      "outputs": [
        {
          "output_type": "stream",
          "text": [
            "[4.79528474e+01 2.51317399e+01 1.09178554e+01 9.92357703e+00\n",
            " 3.43165884e+00 1.67229185e+00 8.33789934e-01 1.36214693e-01\n",
            " 2.48526290e-05]\n"
          ],
          "name": "stdout"
        }
      ]
    },
    {
      "cell_type": "code",
      "metadata": {
        "colab": {
          "base_uri": "https://localhost:8080/",
          "height": 268
        },
        "id": "GkPcyhdr76FJ",
        "outputId": "37e3e45c-6006-40c1-91e7-539912ef56b3"
      },
      "source": [
        "_, ax = plt.subplots()\n",
        "ax.plot(np.arange(1,10), pca.explained_variance_ratio_*200)\n",
        "plt.show()"
      ],
      "execution_count": null,
      "outputs": [
        {
          "output_type": "display_data",
          "data": {
            "image/png": "[encoded data removed]",
            "text/plain": [
              "<Figure size 432x288 with 1 Axes>"
            ]
          },
          "metadata": {
            "tags": [],
            "needs_background": "light"
          }
        }
      ]
    },
    {
      "cell_type": "code",
      "metadata": {
        "colab": {
          "base_uri": "https://localhost:8080/",
          "height": 204
        },
        "id": "jFZU0BS578jG",
        "outputId": "3b3da81b-9b71-4303-d723-31fad2efaaf1"
      },
      "source": [
        "pcaData=pd.DataFrame(\n",
        "    pca.transform(data_fillna_mean[data_fillna_mean.columns.values[data_fillna_mean.columns.values != 'Class']]))\n",
        "pcaNames=[]\n",
        "for i in range(9):\n",
        "  pcaNames.append('pc'+str(i+1))\n",
        "pcaData.columns=pcaNames\n",
        "pcaData.head()"
      ],
      "execution_count": null,
      "outputs": [
        {
          "output_type": "execute_result",
          "data": {
            "text/html": [
              "<div>\n",
              "<style scoped>\n",
              "    .dataframe tbody tr th:only-of-type {\n",
              "        vertical-align: middle;\n",
              "    }\n",
              "\n",
              "    .dataframe tbody tr th {\n",
              "        vertical-align: top;\n",
              "    }\n",
              "\n",
              "    .dataframe thead th {\n",
              "        text-align: right;\n",
              "    }\n",
              "</style>\n",
              "<table border=\"1\" class=\"dataframe\">\n",
              "  <thead>\n",
              "    <tr style=\"text-align: right;\">\n",
              "      <th></th>\n",
              "      <th>pc1</th>\n",
              "      <th>pc2</th>\n",
              "      <th>pc3</th>\n",
              "      <th>pc4</th>\n",
              "      <th>pc5</th>\n",
              "      <th>pc6</th>\n",
              "      <th>pc7</th>\n",
              "      <th>pc8</th>\n",
              "      <th>pc9</th>\n",
              "    </tr>\n",
              "  </thead>\n",
              "  <tbody>\n",
              "    <tr>\n",
              "      <th>0</th>\n",
              "      <td>-1.426447</td>\n",
              "      <td>-1.052238</td>\n",
              "      <td>-1.047116</td>\n",
              "      <td>-0.392286</td>\n",
              "      <td>0.345081</td>\n",
              "      <td>-0.001542</td>\n",
              "      <td>0.060442</td>\n",
              "      <td>-0.067303</td>\n",
              "      <td>-0.000974</td>\n",
              "    </tr>\n",
              "    <tr>\n",
              "      <th>1</th>\n",
              "      <td>-1.478463</td>\n",
              "      <td>0.160343</td>\n",
              "      <td>0.037725</td>\n",
              "      <td>-0.119040</td>\n",
              "      <td>0.022332</td>\n",
              "      <td>-0.018517</td>\n",
              "      <td>-0.133901</td>\n",
              "      <td>-0.059116</td>\n",
              "      <td>-0.001027</td>\n",
              "    </tr>\n",
              "    <tr>\n",
              "      <th>2</th>\n",
              "      <td>-1.466882</td>\n",
              "      <td>0.354055</td>\n",
              "      <td>0.172899</td>\n",
              "      <td>-0.268196</td>\n",
              "      <td>0.016195</td>\n",
              "      <td>-0.193167</td>\n",
              "      <td>0.003232</td>\n",
              "      <td>-0.045047</td>\n",
              "      <td>-0.000192</td>\n",
              "    </tr>\n",
              "    <tr>\n",
              "      <th>3</th>\n",
              "      <td>-0.544911</td>\n",
              "      <td>0.329756</td>\n",
              "      <td>0.188358</td>\n",
              "      <td>0.116210</td>\n",
              "      <td>-0.038109</td>\n",
              "      <td>0.142774</td>\n",
              "      <td>-0.438288</td>\n",
              "      <td>-0.022880</td>\n",
              "      <td>-0.000586</td>\n",
              "    </tr>\n",
              "    <tr>\n",
              "      <th>4</th>\n",
              "      <td>-1.354512</td>\n",
              "      <td>-0.012894</td>\n",
              "      <td>0.376034</td>\n",
              "      <td>-0.198770</td>\n",
              "      <td>-0.077599</td>\n",
              "      <td>0.082916</td>\n",
              "      <td>0.046690</td>\n",
              "      <td>-0.050626</td>\n",
              "      <td>-0.000665</td>\n",
              "    </tr>\n",
              "  </tbody>\n",
              "</table>\n",
              "</div>"
            ],
            "text/plain": [
              "        pc1       pc2       pc3  ...       pc7       pc8       pc9\n",
              "0 -1.426447 -1.052238 -1.047116  ...  0.060442 -0.067303 -0.000974\n",
              "1 -1.478463  0.160343  0.037725  ... -0.133901 -0.059116 -0.001027\n",
              "2 -1.466882  0.354055  0.172899  ...  0.003232 -0.045047 -0.000192\n",
              "3 -0.544911  0.329756  0.188358  ... -0.438288 -0.022880 -0.000586\n",
              "4 -1.354512 -0.012894  0.376034  ...  0.046690 -0.050626 -0.000665\n",
              "\n",
              "[5 rows x 9 columns]"
            ]
          },
          "metadata": {
            "tags": []
          },
          "execution_count": 101
        }
      ]
    },
    {
      "cell_type": "code",
      "metadata": {
        "colab": {
          "base_uri": "https://localhost:8080/",
          "height": 497
        },
        "id": "sLeHhGD97-ic",
        "outputId": "76924118-5da0-452d-ed20-591e1dd87d4d"
      },
      "source": [
        "fig, ax = plt.subplots(figsize=(8,8))\n",
        "\n",
        "ax.scatter(pcaData['pc1'], pcaData['pc2'])\n",
        "ax.set_xlabel('pc1')\n",
        "ax.set_ylabel('pc2')\n",
        "\n",
        "plt.show()"
      ],
      "execution_count": null,
      "outputs": [
        {
          "output_type": "display_data",
          "data": {
            "image/png": "[encoded data removed]",
            "text/plain": [
              "<Figure size 576x576 with 1 Axes>"
            ]
          },
          "metadata": {
            "tags": [],
            "needs_background": "light"
          }
        }
      ]
    },
    {
      "cell_type": "code",
      "metadata": {
        "id": "vxaAbaRA8DAa"
      },
      "source": [
        "pcaData['Class'] = data_fillna_mean['Class'].copy()"
      ],
      "execution_count": null,
      "outputs": []
    },
    {
      "cell_type": "code",
      "metadata": {
        "colab": {
          "base_uri": "https://localhost:8080/",
          "height": 497
        },
        "id": "TeZtG4xB8F0R",
        "outputId": "44ed09eb-7c66-448b-8829-364bca884be9"
      },
      "source": [
        "col1 = 'pc1'\n",
        "col2 = 'pc2'\n",
        "\n",
        "fig, ax = plt.subplots(figsize=(8,8))\n",
        "\n",
        "for glassType in pcaData['Class'].value_counts().index.values:\n",
        "  ax.scatter(pcaData[col1][ pcaData['Class']==glassType ],\n",
        "             pcaData[col2][ pcaData['Class']==glassType ],\n",
        "             label=glassType)\n",
        "\n",
        "ax.set_xlabel(col1)\n",
        "ax.set_ylabel(col2)\n",
        "ax.legend()\n",
        "\n",
        "plt.show()"
      ],
      "execution_count": null,
      "outputs": [
        {
          "output_type": "display_data",
          "data": {
            "image/png": "[encoded data removed]",
            "text/plain": [
              "<Figure size 576x576 with 1 Axes>"
            ]
          },
          "metadata": {
            "tags": [],
            "needs_background": "light"
          }
        }
      ]
    },
    {
      "cell_type": "code",
      "metadata": {
        "colab": {
          "base_uri": "https://localhost:8080/",
          "height": 466
        },
        "id": "bOS9m7138KQV",
        "outputId": "eca79685-1a1c-4e26-888e-2dc167ca82b5"
      },
      "source": [
        "fig = plt.figure(figsize=(8,8))\n",
        "ax = plt.axes(projection='3d')\n",
        "\n",
        "ax.scatter(pcaData['pc1'], pcaData['pc2'], pcaData['pc3'])\n",
        "ax.set_xlabel('pc1', fontsize=16)\n",
        "ax.set_ylabel('pc2', fontsize=16)\n",
        "ax.set_zlabel('pc3', fontsize=16)\n",
        "\n",
        "plt.show()"
      ],
      "execution_count": null,
      "outputs": [
        {
          "output_type": "display_data",
          "data": {
            "image/png": "[encoded data removed]",
            "text/plain": [
              "<Figure size 576x576 with 1 Axes>"
            ]
          },
          "metadata": {
            "tags": [],
            "needs_background": "light"
          }
        }
      ]
    },
    {
      "cell_type": "code",
      "metadata": {
        "colab": {
          "base_uri": "https://localhost:8080/",
          "height": 466
        },
        "id": "Io0NVpSi8L3j",
        "outputId": "9aa7acbe-7dd1-4fcc-ecd0-23f326c31ac9"
      },
      "source": [
        "col1 = 'pc1'\n",
        "col2 = 'pc2'\n",
        "\n",
        "fig = plt.figure(figsize=(8,8))\n",
        "ax = plt.axes(projection='3d')\n",
        "\n",
        "for glassType in pcaData['Class'].value_counts().index.values:\n",
        "  ax.scatter(pcaData['pc1'][ pcaData['Class']==glassType ], \n",
        "             pcaData['pc2'][ pcaData['Class']==glassType ], \n",
        "             pcaData['pc3'][ pcaData['Class']==glassType ],\n",
        "             label=glassType)\n",
        "\n",
        "ax.set_xlabel('pc1', fontsize=16)\n",
        "ax.set_ylabel('pc2', fontsize=16)\n",
        "ax.set_zlabel('pc3', fontsize=16)\n",
        "ax.legend()\n",
        "\n",
        "plt.show()"
      ],
      "execution_count": null,
      "outputs": [
        {
          "output_type": "display_data",
          "data": {
            "image/png": "[encoded data removed]",
            "text/plain": [
              "<Figure size 576x576 with 1 Axes>"
            ]
          },
          "metadata": {
            "tags": [],
            "needs_background": "light"
          }
        }
      ]
    },
    {
      "cell_type": "markdown",
      "metadata": {
        "id": "yeDGMjJk8VBJ"
      },
      "source": [
        "# Сorrelation"
      ]
    },
    {
      "cell_type": "code",
      "metadata": {
        "colab": {
          "base_uri": "https://localhost:8080/",
          "height": 328
        },
        "id": "D3UhrO8D8QGQ",
        "outputId": "18fb624d-d99b-4cfe-80dd-35a5a2f768a4"
      },
      "source": [
        "corr = data_fillna_mean.corr()\n",
        "corr"
      ],
      "execution_count": null,
      "outputs": [
        {
          "output_type": "execute_result",
          "data": {
            "text/html": [
              "<div>\n",
              "<style scoped>\n",
              "    .dataframe tbody tr th:only-of-type {\n",
              "        vertical-align: middle;\n",
              "    }\n",
              "\n",
              "    .dataframe tbody tr th {\n",
              "        vertical-align: top;\n",
              "    }\n",
              "\n",
              "    .dataframe thead th {\n",
              "        text-align: right;\n",
              "    }\n",
              "</style>\n",
              "<table border=\"1\" class=\"dataframe\">\n",
              "  <thead>\n",
              "    <tr style=\"text-align: right;\">\n",
              "      <th></th>\n",
              "      <th>RI</th>\n",
              "      <th>Na</th>\n",
              "      <th>Mg</th>\n",
              "      <th>Al</th>\n",
              "      <th>Si</th>\n",
              "      <th>K</th>\n",
              "      <th>Ca</th>\n",
              "      <th>Ba</th>\n",
              "      <th>Fe</th>\n",
              "    </tr>\n",
              "  </thead>\n",
              "  <tbody>\n",
              "    <tr>\n",
              "      <th>RI</th>\n",
              "      <td>1.000000</td>\n",
              "      <td>-0.201103</td>\n",
              "      <td>-0.159801</td>\n",
              "      <td>-0.353464</td>\n",
              "      <td>-0.458553</td>\n",
              "      <td>-0.293073</td>\n",
              "      <td>0.802251</td>\n",
              "      <td>0.057480</td>\n",
              "      <td>0.165864</td>\n",
              "    </tr>\n",
              "    <tr>\n",
              "      <th>Na</th>\n",
              "      <td>-0.201103</td>\n",
              "      <td>1.000000</td>\n",
              "      <td>-0.263180</td>\n",
              "      <td>0.118814</td>\n",
              "      <td>-0.135012</td>\n",
              "      <td>-0.240116</td>\n",
              "      <td>-0.257536</td>\n",
              "      <td>0.289205</td>\n",
              "      <td>-0.248080</td>\n",
              "    </tr>\n",
              "    <tr>\n",
              "      <th>Mg</th>\n",
              "      <td>-0.159801</td>\n",
              "      <td>-0.263180</td>\n",
              "      <td>1.000000</td>\n",
              "      <td>-0.427353</td>\n",
              "      <td>-0.124825</td>\n",
              "      <td>0.065818</td>\n",
              "      <td>-0.443077</td>\n",
              "      <td>-0.505854</td>\n",
              "      <td>0.052918</td>\n",
              "    </tr>\n",
              "    <tr>\n",
              "      <th>Al</th>\n",
              "      <td>-0.353464</td>\n",
              "      <td>0.118814</td>\n",
              "      <td>-0.427353</td>\n",
              "      <td>1.000000</td>\n",
              "      <td>-0.016366</td>\n",
              "      <td>0.346343</td>\n",
              "      <td>-0.202773</td>\n",
              "      <td>0.448250</td>\n",
              "      <td>-0.074779</td>\n",
              "    </tr>\n",
              "    <tr>\n",
              "      <th>Si</th>\n",
              "      <td>-0.458553</td>\n",
              "      <td>-0.135012</td>\n",
              "      <td>-0.124825</td>\n",
              "      <td>-0.016366</td>\n",
              "      <td>1.000000</td>\n",
              "      <td>-0.200911</td>\n",
              "      <td>-0.242254</td>\n",
              "      <td>-0.101445</td>\n",
              "      <td>-0.087368</td>\n",
              "    </tr>\n",
              "    <tr>\n",
              "      <th>K</th>\n",
              "      <td>-0.293073</td>\n",
              "      <td>-0.240116</td>\n",
              "      <td>0.065818</td>\n",
              "      <td>0.346343</td>\n",
              "      <td>-0.200911</td>\n",
              "      <td>1.000000</td>\n",
              "      <td>-0.247143</td>\n",
              "      <td>-0.066728</td>\n",
              "      <td>-0.016854</td>\n",
              "    </tr>\n",
              "    <tr>\n",
              "      <th>Ca</th>\n",
              "      <td>0.802251</td>\n",
              "      <td>-0.257536</td>\n",
              "      <td>-0.443077</td>\n",
              "      <td>-0.202773</td>\n",
              "      <td>-0.242254</td>\n",
              "      <td>-0.247143</td>\n",
              "      <td>1.000000</td>\n",
              "      <td>-0.060338</td>\n",
              "      <td>0.144498</td>\n",
              "    </tr>\n",
              "    <tr>\n",
              "      <th>Ba</th>\n",
              "      <td>0.057480</td>\n",
              "      <td>0.289205</td>\n",
              "      <td>-0.505854</td>\n",
              "      <td>0.448250</td>\n",
              "      <td>-0.101445</td>\n",
              "      <td>-0.066728</td>\n",
              "      <td>-0.060338</td>\n",
              "      <td>1.000000</td>\n",
              "      <td>-0.044550</td>\n",
              "    </tr>\n",
              "    <tr>\n",
              "      <th>Fe</th>\n",
              "      <td>0.165864</td>\n",
              "      <td>-0.248080</td>\n",
              "      <td>0.052918</td>\n",
              "      <td>-0.074779</td>\n",
              "      <td>-0.087368</td>\n",
              "      <td>-0.016854</td>\n",
              "      <td>0.144498</td>\n",
              "      <td>-0.044550</td>\n",
              "      <td>1.000000</td>\n",
              "    </tr>\n",
              "  </tbody>\n",
              "</table>\n",
              "</div>"
            ],
            "text/plain": [
              "          RI        Na        Mg  ...        Ca        Ba        Fe\n",
              "RI  1.000000 -0.201103 -0.159801  ...  0.802251  0.057480  0.165864\n",
              "Na -0.201103  1.000000 -0.263180  ... -0.257536  0.289205 -0.248080\n",
              "Mg -0.159801 -0.263180  1.000000  ... -0.443077 -0.505854  0.052918\n",
              "Al -0.353464  0.118814 -0.427353  ... -0.202773  0.448250 -0.074779\n",
              "Si -0.458553 -0.135012 -0.124825  ... -0.242254 -0.101445 -0.087368\n",
              "K  -0.293073 -0.240116  0.065818  ... -0.247143 -0.066728 -0.016854\n",
              "Ca  0.802251 -0.257536 -0.443077  ...  1.000000 -0.060338  0.144498\n",
              "Ba  0.057480  0.289205 -0.505854  ... -0.060338  1.000000 -0.044550\n",
              "Fe  0.165864 -0.248080  0.052918  ...  0.144498 -0.044550  1.000000\n",
              "\n",
              "[9 rows x 9 columns]"
            ]
          },
          "metadata": {
            "tags": []
          },
          "execution_count": 107
        }
      ]
    },
    {
      "cell_type": "code",
      "metadata": {
        "colab": {
          "base_uri": "https://localhost:8080/",
          "height": 633
        },
        "id": "1YD2SjyO8exZ",
        "outputId": "d7fe6f62-2c31-4e0c-a67c-bc8478970f2f"
      },
      "source": [
        "plt.figure(figsize=(12,10 ))\n",
        "ax = sns.heatmap(corr, annot=True, vmax=1, vmin=-1, cmap='gist_rainbow')\n",
        "ax.set_title('Корреляции вещественных переменных', fontsize=25)\n",
        "plt.show"
      ],
      "execution_count": null,
      "outputs": [
        {
          "output_type": "execute_result",
          "data": {
            "text/plain": [
              "<function matplotlib.pyplot.show>"
            ]
          },
          "metadata": {
            "tags": []
          },
          "execution_count": 108
        },
        {
          "output_type": "display_data",
          "data": {
            "image/png": "[encoded data removed]",
            "text/plain": [
              "<Figure size 864x720 with 2 Axes>"
            ]
          },
          "metadata": {
            "tags": [],
            "needs_background": "light"
          }
        }
      ]
    },
    {
      "cell_type": "code",
      "metadata": {
        "colab": {
          "base_uri": "https://localhost:8080/",
          "height": 626
        },
        "id": "V-xKbXuP8gye",
        "outputId": "f1dbe632-5ac4-4c32-e004-9c22a3a3aa09"
      },
      "source": [
        "plt.figure (figsize=(12,10))\n",
        "ax = sns.heatmap (corr[(corr >= 0.75)|(corr <=-0.75)], annot=True, vmax=1, vmin=-1, cmap='gist_rainbow')\n",
        "ax.set_title('Сильная корреляция', fontsize=15)\n",
        "plt.show"
      ],
      "execution_count": null,
      "outputs": [
        {
          "output_type": "execute_result",
          "data": {
            "text/plain": [
              "<function matplotlib.pyplot.show>"
            ]
          },
          "metadata": {
            "tags": []
          },
          "execution_count": 110
        },
        {
          "output_type": "display_data",
          "data": {
            "image/png": "[encoded data removed]",
            "text/plain": [
              "<Figure size 864x720 with 2 Axes>"
            ]
          },
          "metadata": {
            "tags": [],
            "needs_background": "light"
          }
        }
      ]
    },
    {
      "cell_type": "markdown",
      "metadata": {
        "id": "sTMH6z8p8vkT"
      },
      "source": [
        "# Feature importance"
      ]
    },
    {
      "cell_type": "code",
      "metadata": {
        "id": "vE6dDCdN8xj3"
      },
      "source": [
        "import sklearn.preprocessing as prepro\n",
        "from sklearn.ensemble import ExtraTreesClassifier"
      ],
      "execution_count": null,
      "outputs": []
    },
    {
      "cell_type": "code",
      "metadata": {
        "id": "LDjTVDA680wV"
      },
      "source": [
        "forest = ExtraTreesClassifier(n_estimators=100)"
      ],
      "execution_count": null,
      "outputs": []
    },
    {
      "cell_type": "code",
      "metadata": {
        "colab": {
          "base_uri": "https://localhost:8080/"
        },
        "id": "add_LwEJ82W2",
        "outputId": "29b6c456-c138-47cd-e0cc-2d212ae6ac52"
      },
      "source": [
        "#  forest.fit(x,y)\n",
        "forest.fit(\n",
        "    data_fillna_mean[ data_fillna_mean.columns.values[data_fillna_mean.columns.values!='Class'] ], \n",
        "    data_fillna_mean['Class']\n",
        "    )"
      ],
      "execution_count": null,
      "outputs": [
        {
          "output_type": "execute_result",
          "data": {
            "text/plain": [
              "ExtraTreesClassifier(bootstrap=False, ccp_alpha=0.0, class_weight=None,\n",
              "                     criterion='gini', max_depth=None, max_features='auto',\n",
              "                     max_leaf_nodes=None, max_samples=None,\n",
              "                     min_impurity_decrease=0.0, min_impurity_split=None,\n",
              "                     min_samples_leaf=1, min_samples_split=2,\n",
              "                     min_weight_fraction_leaf=0.0, n_estimators=100,\n",
              "                     n_jobs=None, oob_score=False, random_state=None, verbose=0,\n",
              "                     warm_start=False)"
            ]
          },
          "metadata": {
            "tags": []
          },
          "execution_count": 113
        }
      ]
    },
    {
      "cell_type": "code",
      "metadata": {
        "colab": {
          "base_uri": "https://localhost:8080/"
        },
        "id": "d9Sb_c9c83lP",
        "outputId": "b6e2e21f-363d-41f4-b287-6ee56bda164c"
      },
      "source": [
        "importance = forest.feature_importances_\n",
        "importance"
      ],
      "execution_count": null,
      "outputs": [
        {
          "output_type": "execute_result",
          "data": {
            "text/plain": [
              "array([0.14536355, 0.09290482, 0.15767732, 0.12987129, 0.09526251,\n",
              "       0.10757828, 0.12796825, 0.07867761, 0.06469637])"
            ]
          },
          "metadata": {
            "tags": []
          },
          "execution_count": 114
        }
      ]
    },
    {
      "cell_type": "code",
      "metadata": {
        "colab": {
          "base_uri": "https://localhost:8080/"
        },
        "id": "LkNjU59a85_s",
        "outputId": "1f90f9a6-eb6f-4814-a780-c426f4c857fd"
      },
      "source": [
        "np.sort(importance)[:: -1]"
      ],
      "execution_count": null,
      "outputs": [
        {
          "output_type": "execute_result",
          "data": {
            "text/plain": [
              "array([0.15767732, 0.14536355, 0.12987129, 0.12796825, 0.10757828,\n",
              "       0.09526251, 0.09290482, 0.07867761, 0.06469637])"
            ]
          },
          "metadata": {
            "tags": []
          },
          "execution_count": 115
        }
      ]
    },
    {
      "cell_type": "code",
      "metadata": {
        "colab": {
          "base_uri": "https://localhost:8080/"
        },
        "id": "sYkQJM4i874k",
        "outputId": "f3eef842-77a9-459d-d467-b7c0c84da06e"
      },
      "source": [
        "indices = np.argsort(importance)[::-1]\n",
        "indices"
      ],
      "execution_count": null,
      "outputs": [
        {
          "output_type": "execute_result",
          "data": {
            "text/plain": [
              "array([2, 0, 3, 6, 5, 4, 1, 7, 8])"
            ]
          },
          "metadata": {
            "tags": []
          },
          "execution_count": 116
        }
      ]
    },
    {
      "cell_type": "code",
      "metadata": {
        "colab": {
          "base_uri": "https://localhost:8080/"
        },
        "id": "3bn9dqCt8-XG",
        "outputId": "d62fc04e-4d73-499d-8bfd-d895dce4c615"
      },
      "source": [
        "# Print the feature ranking\n",
        "print(\"Feature ranking:\")\n",
        "\n",
        "for f in range(9):\n",
        "    print(\"%d. feature %s (%f)\" % (f + 1, data_fillna_mean.columns.values[indices[f]], importance[indices[f]]))"
      ],
      "execution_count": null,
      "outputs": [
        {
          "output_type": "stream",
          "text": [
            "Feature ranking:\n",
            "1. feature Mg (0.157677)\n",
            "2. feature RI (0.145364)\n",
            "3. feature Al (0.129871)\n",
            "4. feature Ca (0.127968)\n",
            "5. feature K (0.107578)\n",
            "6. feature Si (0.095263)\n",
            "7. feature Na (0.092905)\n",
            "8. feature Ba (0.078678)\n",
            "9. feature Fe (0.064696)\n"
          ],
          "name": "stdout"
        }
      ]
    },
    {
      "cell_type": "code",
      "metadata": {
        "colab": {
          "base_uri": "https://localhost:8080/"
        },
        "id": "XXZTK4HO9AwN",
        "outputId": "b1c15375-0e03-4d9e-9ae3-58eb9f793751"
      },
      "source": [
        "std = np.std( [tree.feature_importances_ for tree in forest.estimators_], axis=0)\n",
        "std"
      ],
      "execution_count": null,
      "outputs": [
        {
          "output_type": "execute_result",
          "data": {
            "text/plain": [
              "array([0.03874447, 0.02932368, 0.05023654, 0.04228407, 0.02663211,\n",
              "       0.03414894, 0.03314137, 0.03819194, 0.02078386])"
            ]
          },
          "metadata": {
            "tags": []
          },
          "execution_count": 118
        }
      ]
    },
    {
      "cell_type": "code",
      "metadata": {
        "colab": {
          "base_uri": "https://localhost:8080/",
          "height": 336
        },
        "id": "yqeOiCOb9DFY",
        "outputId": "3b18e8d6-8455-47f8-fa81-2abf16a2c022"
      },
      "source": [
        "fig, ax = plt.subplots(figsize=(10,5))\n",
        "ax.set_title('Столбцы')\n",
        "ax.bar(data_fillna_mean.columns.values[indices], importance[indices], color=\"pink\", yerr=std[indices], align=\"center\")\n",
        "\n",
        "plt.show()"
      ],
      "execution_count": null,
      "outputs": [
        {
          "output_type": "display_data",
          "data": {
            "image/png": "[encoded data removed]",
            "text/plain": [
              "<Figure size 720x360 with 1 Axes>"
            ]
          },
          "metadata": {
            "tags": [],
            "needs_background": "light"
          }
        }
      ]
    },
    {
      "cell_type": "markdown",
      "metadata": {
        "id": "Eifj1aYA9TE-"
      },
      "source": [
        "# Task"
      ]
    },
    {
      "cell_type": "markdown",
      "metadata": {
        "id": "PGHg1gaR9YaG"
      },
      "source": [
        "1) сделать виджет для выбора переменной. Для выбранной переменной строиться гистограмма, если переменная числовая или столбчатая диаграмма, если переменная категориальная.\n",
        "\n",
        "2) сделать виджет для выбора переменной. Для выбранной переменной строиться диаграмма \"ящик с усами\".\n",
        "\n",
        "3) сделать виджет для выбора пары переменных, для них строится парный график с раскраской точек по классам."
      ]
    },
    {
      "cell_type": "markdown",
      "metadata": {
        "id": "sjKqFVD29azl"
      },
      "source": [
        "# №1"
      ]
    },
    {
      "cell_type": "code",
      "metadata": {
        "colab": {
          "base_uri": "https://localhost:8080/",
          "height": 305
        },
        "id": "8n6rgpxs9Ro6",
        "outputId": "9c1aec36-f04e-4d52-ceb6-a6e803b1e1ed"
      },
      "source": [
        "#@title Выбор переменной\n",
        "#@markdown ---\n",
        "Variable = \"Ba\" #@param [\"Id\", \"RI\", \"Na\", \"Mg\", \"Al\", \"Si\", \"K\", \"Ca\", \"Ba\", \"Fe\", \"Class\"]\n",
        "#@markdown ---\n",
        "if  Variable == 'Class':\n",
        "    col = Variable\n",
        "    fig, ax = plt.subplots(figsize=(12,6))\n",
        "    ax.bar(data[col].value_counts().index.values, \n",
        "        data[col].value_counts().values)\n",
        "    ax.set_xlabel(None, fontsize=16)\n",
        "    ax.set_title('Barplot для '+str(col), fontsize=16)\n",
        "    ax.tick_params(axis='x', which='major', labelsize=14, rotation=35)\n",
        "    plt.show()\n",
        "else:\n",
        "    col = Variable\n",
        "    fig, ax = plt.subplots()\n",
        "    ax.hist(data[col], bins=20)\n",
        "    ax.set_xlabel(col, fontsize=16)\n",
        "    ax.set_title(\"Гистограмма для  \" + str(col), fontsize=20)\n",
        "    plt.show()"
      ],
      "execution_count": null,
      "outputs": [
        {
          "output_type": "display_data",
          "data": {
            "image/png": "[encoded data removed]",
            "text/plain": [
              "<Figure size 432x288 with 1 Axes>"
            ]
          },
          "metadata": {
            "tags": [],
            "needs_background": "light"
          }
        }
      ]
    },
    {
      "cell_type": "markdown",
      "metadata": {
        "id": "DD7jAT1b9klN"
      },
      "source": [
        "# №2"
      ]
    },
    {
      "cell_type": "code",
      "metadata": {
        "colab": {
          "base_uri": "https://localhost:8080/",
          "height": 279
        },
        "id": "VFVnLLYW9jYI",
        "outputId": "cc612189-48c1-4fe0-b927-2d7a99392c25"
      },
      "source": [
        "#@title Выбор переменной\n",
        "#@markdown ---\n",
        "Variable = \"Mg\" #@param [\"Id\", \"RI\", \"Na\", \"Mg\", \"Al\", \"Si\", \"K\", \"Ca\", \"Ba\", \"Fe\"]\n",
        "#@markdown ---\n",
        "sns.boxplot(data=data, x=Variable)\n",
        "plt.show()"
      ],
      "execution_count": null,
      "outputs": [
        {
          "output_type": "display_data",
          "data": {
            "image/png": "[encoded data removed]",
            "text/plain": [
              "<Figure size 432x288 with 1 Axes>"
            ]
          },
          "metadata": {
            "tags": [],
            "needs_background": "light"
          }
        }
      ]
    },
    {
      "cell_type": "markdown",
      "metadata": {
        "id": "fLAsUSXK9qVr"
      },
      "source": [
        "# №3"
      ]
    },
    {
      "cell_type": "code",
      "metadata": {
        "colab": {
          "base_uri": "https://localhost:8080/",
          "height": 279
        },
        "id": "aMxU_42Z9ogS",
        "outputId": "7d5e690f-55c3-47dc-fd60-3c3be318a6dd"
      },
      "source": [
        "#@title Выбор переменной\n",
        "#@markdown ---\n",
        "Variable1 = \"Si\" #@param [\"Id\", \"RI\", \"Na\", \"Mg\", \"Al\", \"Si\", \"K\", \"Ca\", \"Ba\", \"Fe\"]\n",
        "Variable2 = \"K\" #@param [\"Id\", \"RI\", \"Na\", \"Mg\", \"Al\", \"Si\", \"K\", \"Ca\", \"Ba\", \"Fe\"]\n",
        "#@markdown --- \n",
        " \n",
        "fig, ax = plt.subplots()\n",
        " \n",
        "for glassType in data['Class'].value_counts().index.values:\n",
        "  ax.scatter(data[Variable1][ data['Class']==glassType ],\n",
        "             data[Variable2][ data['Class']==glassType ],\n",
        "             label=glassType)\n",
        " \n",
        "ax.set_xlabel(Variable1)\n",
        "ax.set_ylabel(Variable2)\n",
        "ax.legend()\n",
        " \n",
        "plt.show()"
      ],
      "execution_count": null,
      "outputs": [
        {
          "output_type": "display_data",
          "data": {
            "image/png": "[encoded data removed]",
            "text/plain": [
              "<Figure size 432x288 with 1 Axes>"
            ]
          },
          "metadata": {
            "tags": [],
            "needs_background": "light"
          }
        }
      ]
    },
    {
      "cell_type": "markdown",
      "metadata": {
        "id": "ARq9tpAG9wm4"
      },
      "source": [
        "# Homework"
      ]
    },
    {
      "cell_type": "code",
      "metadata": {
        "id": "1KeAyak29zSe"
      },
      "source": [
        "from sklearn.decomposition import PCA"
      ],
      "execution_count": null,
      "outputs": []
    },
    {
      "cell_type": "code",
      "metadata": {
        "colab": {
          "base_uri": "https://localhost:8080/"
        },
        "id": "nnlw9XDu93a1",
        "outputId": "68318697-8d84-41e6-8159-ea68c4e15644"
      },
      "source": [
        "pca = PCA()\n",
        "pca.fit( data_fillna_mean[data_fillna_mean.columns.values[data_fillna_mean.columns.values != 'Class']] )"
      ],
      "execution_count": null,
      "outputs": [
        {
          "output_type": "execute_result",
          "data": {
            "text/plain": [
              "PCA(copy=True, iterated_power='auto', n_components=None, random_state=None,\n",
              "    svd_solver='auto', tol=0.0, whiten=False)"
            ]
          },
          "metadata": {
            "tags": []
          },
          "execution_count": 128
        }
      ]
    },
    {
      "cell_type": "code",
      "metadata": {
        "colab": {
          "base_uri": "https://localhost:8080/"
        },
        "id": "jNDROFUZ95ww",
        "outputId": "db4fa24c-3d07-4953-afcb-30a8efe218bc"
      },
      "source": [
        "print(pca.explained_variance_ratio_*100)"
      ],
      "execution_count": null,
      "outputs": [
        {
          "output_type": "stream",
          "text": [
            "[4.79528474e+01 2.51317399e+01 1.09178554e+01 9.92357703e+00\n",
            " 3.43165884e+00 1.67229185e+00 8.33789934e-01 1.36214693e-01\n",
            " 2.48526290e-05]\n"
          ],
          "name": "stdout"
        }
      ]
    },
    {
      "cell_type": "code",
      "metadata": {
        "colab": {
          "base_uri": "https://localhost:8080/",
          "height": 268
        },
        "id": "qo823E-X97jh",
        "outputId": "b9145daa-4ae1-4356-beef-3f63f23104fd"
      },
      "source": [
        "_, ax = plt.subplots()\n",
        "ax.plot(np.arange(1,10),pca.explained_variance_ratio_*100)\n",
        "plt.show()"
      ],
      "execution_count": null,
      "outputs": [
        {
          "output_type": "display_data",
          "data": {
            "image/png": "[encoded data removed]",
            "text/plain": [
              "<Figure size 432x288 with 1 Axes>"
            ]
          },
          "metadata": {
            "tags": [],
            "needs_background": "light"
          }
        }
      ]
    },
    {
      "cell_type": "code",
      "metadata": {
        "id": "-ckMstGd99-Z"
      },
      "source": [
        "pcaData['Class'] = data_fillna_mean['Class'].copy()"
      ],
      "execution_count": null,
      "outputs": []
    },
    {
      "cell_type": "code",
      "metadata": {
        "colab": {
          "base_uri": "https://localhost:8080/",
          "height": 497
        },
        "id": "2tATI9j79_xr",
        "outputId": "9ef792b2-6a42-49ce-e349-3508629d8670"
      },
      "source": [
        "col1 = 'pc1'\n",
        "col2 = 'pc2'\n",
        "\n",
        "fig, ax = plt.subplots(figsize=(8,8))\n",
        "\n",
        "for glassType in pcaData['Class'].value_counts().index.values:\n",
        "  ax.scatter(pcaData[col1][ pcaData['Class']==glassType ],\n",
        "             pcaData[col2][ pcaData['Class']==glassType ],\n",
        "             label=glassType)\n",
        "\n",
        "ax.set_xlabel(col1)\n",
        "ax.set_ylabel(col2)\n",
        "ax.legend()\n",
        "\n",
        "plt.show()"
      ],
      "execution_count": null,
      "outputs": [
        {
          "output_type": "display_data",
          "data": {
            "image/png": "[encoded data removed]",
            "text/plain": [
              "<Figure size 576x576 with 1 Axes>"
            ]
          },
          "metadata": {
            "tags": [],
            "needs_background": "light"
          }
        }
      ]
    },
    {
      "cell_type": "code",
      "metadata": {
        "colab": {
          "base_uri": "https://localhost:8080/",
          "height": 466
        },
        "id": "1rbchOCC-CEI",
        "outputId": "d9630e63-0cb3-4151-ab63-2a0c71245f58"
      },
      "source": [
        "col1 = 'pc1'\n",
        "col2 = 'pc2'\n",
        "\n",
        "fig = plt.figure(figsize=(8,8))\n",
        "ax = plt.axes(projection='3d')\n",
        "\n",
        "for glassType in pcaData['Class'].value_counts().index.values:\n",
        "  ax.scatter(pcaData['pc1'][ pcaData['Class']==glassType ], \n",
        "             pcaData['pc2'][ pcaData['Class']==glassType ], \n",
        "             pcaData['pc3'][ pcaData['Class']==glassType ],\n",
        "             label=glassType)\n",
        "\n",
        "ax.set_xlabel('pc1', fontsize=16)\n",
        "ax.set_ylabel('pc2', fontsize=16)\n",
        "ax.set_zlabel('pc3', fontsize=16)\n",
        "ax.legend()\n",
        "\n",
        "plt.show()"
      ],
      "execution_count": null,
      "outputs": [
        {
          "output_type": "display_data",
          "data": {
            "image/png": "[encoded data removed]",
            "text/plain": [
              "<Figure size 576x576 with 1 Axes>"
            ]
          },
          "metadata": {
            "tags": [],
            "needs_background": "light"
          }
        }
      ]
    },
    {
      "cell_type": "code",
      "metadata": {
        "colab": {
          "base_uri": "https://localhost:8080/",
          "height": 328
        },
        "id": "cdrU2cxi-E8I",
        "outputId": "6ed58da5-1627-4a18-bc16-f7d12d890da0"
      },
      "source": [
        "corr = data_fillna_mean.corr()\n",
        "corr"
      ],
      "execution_count": null,
      "outputs": [
        {
          "output_type": "execute_result",
          "data": {
            "text/html": [
              "<div>\n",
              "<style scoped>\n",
              "    .dataframe tbody tr th:only-of-type {\n",
              "        vertical-align: middle;\n",
              "    }\n",
              "\n",
              "    .dataframe tbody tr th {\n",
              "        vertical-align: top;\n",
              "    }\n",
              "\n",
              "    .dataframe thead th {\n",
              "        text-align: right;\n",
              "    }\n",
              "</style>\n",
              "<table border=\"1\" class=\"dataframe\">\n",
              "  <thead>\n",
              "    <tr style=\"text-align: right;\">\n",
              "      <th></th>\n",
              "      <th>RI</th>\n",
              "      <th>Na</th>\n",
              "      <th>Mg</th>\n",
              "      <th>Al</th>\n",
              "      <th>Si</th>\n",
              "      <th>K</th>\n",
              "      <th>Ca</th>\n",
              "      <th>Ba</th>\n",
              "      <th>Fe</th>\n",
              "    </tr>\n",
              "  </thead>\n",
              "  <tbody>\n",
              "    <tr>\n",
              "      <th>RI</th>\n",
              "      <td>1.000000</td>\n",
              "      <td>-0.201103</td>\n",
              "      <td>-0.159801</td>\n",
              "      <td>-0.353464</td>\n",
              "      <td>-0.458553</td>\n",
              "      <td>-0.293073</td>\n",
              "      <td>0.802251</td>\n",
              "      <td>0.057480</td>\n",
              "      <td>0.165864</td>\n",
              "    </tr>\n",
              "    <tr>\n",
              "      <th>Na</th>\n",
              "      <td>-0.201103</td>\n",
              "      <td>1.000000</td>\n",
              "      <td>-0.263180</td>\n",
              "      <td>0.118814</td>\n",
              "      <td>-0.135012</td>\n",
              "      <td>-0.240116</td>\n",
              "      <td>-0.257536</td>\n",
              "      <td>0.289205</td>\n",
              "      <td>-0.248080</td>\n",
              "    </tr>\n",
              "    <tr>\n",
              "      <th>Mg</th>\n",
              "      <td>-0.159801</td>\n",
              "      <td>-0.263180</td>\n",
              "      <td>1.000000</td>\n",
              "      <td>-0.427353</td>\n",
              "      <td>-0.124825</td>\n",
              "      <td>0.065818</td>\n",
              "      <td>-0.443077</td>\n",
              "      <td>-0.505854</td>\n",
              "      <td>0.052918</td>\n",
              "    </tr>\n",
              "    <tr>\n",
              "      <th>Al</th>\n",
              "      <td>-0.353464</td>\n",
              "      <td>0.118814</td>\n",
              "      <td>-0.427353</td>\n",
              "      <td>1.000000</td>\n",
              "      <td>-0.016366</td>\n",
              "      <td>0.346343</td>\n",
              "      <td>-0.202773</td>\n",
              "      <td>0.448250</td>\n",
              "      <td>-0.074779</td>\n",
              "    </tr>\n",
              "    <tr>\n",
              "      <th>Si</th>\n",
              "      <td>-0.458553</td>\n",
              "      <td>-0.135012</td>\n",
              "      <td>-0.124825</td>\n",
              "      <td>-0.016366</td>\n",
              "      <td>1.000000</td>\n",
              "      <td>-0.200911</td>\n",
              "      <td>-0.242254</td>\n",
              "      <td>-0.101445</td>\n",
              "      <td>-0.087368</td>\n",
              "    </tr>\n",
              "    <tr>\n",
              "      <th>K</th>\n",
              "      <td>-0.293073</td>\n",
              "      <td>-0.240116</td>\n",
              "      <td>0.065818</td>\n",
              "      <td>0.346343</td>\n",
              "      <td>-0.200911</td>\n",
              "      <td>1.000000</td>\n",
              "      <td>-0.247143</td>\n",
              "      <td>-0.066728</td>\n",
              "      <td>-0.016854</td>\n",
              "    </tr>\n",
              "    <tr>\n",
              "      <th>Ca</th>\n",
              "      <td>0.802251</td>\n",
              "      <td>-0.257536</td>\n",
              "      <td>-0.443077</td>\n",
              "      <td>-0.202773</td>\n",
              "      <td>-0.242254</td>\n",
              "      <td>-0.247143</td>\n",
              "      <td>1.000000</td>\n",
              "      <td>-0.060338</td>\n",
              "      <td>0.144498</td>\n",
              "    </tr>\n",
              "    <tr>\n",
              "      <th>Ba</th>\n",
              "      <td>0.057480</td>\n",
              "      <td>0.289205</td>\n",
              "      <td>-0.505854</td>\n",
              "      <td>0.448250</td>\n",
              "      <td>-0.101445</td>\n",
              "      <td>-0.066728</td>\n",
              "      <td>-0.060338</td>\n",
              "      <td>1.000000</td>\n",
              "      <td>-0.044550</td>\n",
              "    </tr>\n",
              "    <tr>\n",
              "      <th>Fe</th>\n",
              "      <td>0.165864</td>\n",
              "      <td>-0.248080</td>\n",
              "      <td>0.052918</td>\n",
              "      <td>-0.074779</td>\n",
              "      <td>-0.087368</td>\n",
              "      <td>-0.016854</td>\n",
              "      <td>0.144498</td>\n",
              "      <td>-0.044550</td>\n",
              "      <td>1.000000</td>\n",
              "    </tr>\n",
              "  </tbody>\n",
              "</table>\n",
              "</div>"
            ],
            "text/plain": [
              "          RI        Na        Mg  ...        Ca        Ba        Fe\n",
              "RI  1.000000 -0.201103 -0.159801  ...  0.802251  0.057480  0.165864\n",
              "Na -0.201103  1.000000 -0.263180  ... -0.257536  0.289205 -0.248080\n",
              "Mg -0.159801 -0.263180  1.000000  ... -0.443077 -0.505854  0.052918\n",
              "Al -0.353464  0.118814 -0.427353  ... -0.202773  0.448250 -0.074779\n",
              "Si -0.458553 -0.135012 -0.124825  ... -0.242254 -0.101445 -0.087368\n",
              "K  -0.293073 -0.240116  0.065818  ... -0.247143 -0.066728 -0.016854\n",
              "Ca  0.802251 -0.257536 -0.443077  ...  1.000000 -0.060338  0.144498\n",
              "Ba  0.057480  0.289205 -0.505854  ... -0.060338  1.000000 -0.044550\n",
              "Fe  0.165864 -0.248080  0.052918  ...  0.144498 -0.044550  1.000000\n",
              "\n",
              "[9 rows x 9 columns]"
            ]
          },
          "metadata": {
            "tags": []
          },
          "execution_count": 134
        }
      ]
    },
    {
      "cell_type": "code",
      "metadata": {
        "colab": {
          "base_uri": "https://localhost:8080/",
          "height": 611
        },
        "id": "EYEieCSA-GuK",
        "outputId": "dbaf524c-0fec-4099-d721-08abbef66815"
      },
      "source": [
        "plt.figure(figsize=(12, 10))\n",
        "\n",
        "ax = sns.heatmap(corr, annot=True, vmax=1, vmin=-1, cmap='gist_rainbow')\n",
        "\n",
        "ax.set_title('Корреляции вещественных переменных', fontsize=18)\n",
        "\n",
        "plt.show()"
      ],
      "execution_count": null,
      "outputs": [
        {
          "output_type": "display_data",
          "data": {
            "image/png": "[encoded data removed]",
            "text/plain": [
              "<Figure size 864x720 with 2 Axes>"
            ]
          },
          "metadata": {
            "tags": [],
            "needs_background": "light"
          }
        }
      ]
    },
    {
      "cell_type": "code",
      "metadata": {
        "colab": {
          "base_uri": "https://localhost:8080/",
          "height": 628
        },
        "id": "WBJt6LwM-IKG",
        "outputId": "634309f8-82a5-46fa-825c-30817012e997"
      },
      "source": [
        "plt.figure (figsize=(12,10))\n",
        "ax = sns.heatmap (corr[(corr >= 0.75)|(corr <=-0.75)], annot=True, vmax=1, vmin=-1, cmap='gist_rainbow')\n",
        "ax.set_title('Сильная корреляция', fontsize=18)\n",
        "plt.show"
      ],
      "execution_count": null,
      "outputs": [
        {
          "output_type": "execute_result",
          "data": {
            "text/plain": [
              "<function matplotlib.pyplot.show>"
            ]
          },
          "metadata": {
            "tags": []
          },
          "execution_count": 137
        },
        {
          "output_type": "display_data",
          "data": {
            "image/png": "[encoded data removed]",
            "text/plain": [
              "<Figure size 864x720 with 2 Axes>"
            ]
          },
          "metadata": {
            "tags": [],
            "needs_background": "light"
          }
        }
      ]
    },
    {
      "cell_type": "code",
      "metadata": {
        "colab": {
          "base_uri": "https://localhost:8080/",
          "height": 628
        },
        "id": "DCwM2dIv-Mqh",
        "outputId": "1a586160-8843-448f-bda3-0b7e68e4ff0b"
      },
      "source": [
        "plt.figure (figsize=(12,10))\n",
        "ax = sns.heatmap (corr[(corr<=0.75)&(corr>=0.45)|(corr<=-0.45)&(corr>=-0.75)], annot=True, vmax=1, vmin=-1, cmap='gist_rainbow')\n",
        "ax.set_title('Средняя корреляция', fontsize=18)\n",
        "plt.show"
      ],
      "execution_count": null,
      "outputs": [
        {
          "output_type": "execute_result",
          "data": {
            "text/plain": [
              "<function matplotlib.pyplot.show>"
            ]
          },
          "metadata": {
            "tags": []
          },
          "execution_count": 138
        },
        {
          "output_type": "display_data",
          "data": {
            "image/png": "[encoded data removed]",
            "text/plain": [
              "<Figure size 864x720 with 2 Axes>"
            ]
          },
          "metadata": {
            "tags": [],
            "needs_background": "light"
          }
        }
      ]
    },
    {
      "cell_type": "code",
      "metadata": {
        "id": "IRGRec9O-PHY",
        "colab": {
          "base_uri": "https://localhost:8080/",
          "height": 629
        },
        "outputId": "4e0d7bfe-1f9b-43d2-eb2c-debb6266d110"
      },
      "source": [
        "plt.figure (figsize=(12,10))\n",
        "ax = sns.heatmap (corr[(corr<=0.45)&(corr>=0.25)|(corr<=-0.25)&(corr>=-0.45)], annot=True, vmax=1, vmin=-1, cmap='gist_rainbow')\n",
        "ax.set_title('Слабая корреляция', fontsize=18)\n",
        "plt.show"
      ],
      "execution_count": null,
      "outputs": [
        {
          "output_type": "execute_result",
          "data": {
            "text/plain": [
              "<function matplotlib.pyplot.show>"
            ]
          },
          "metadata": {
            "tags": []
          },
          "execution_count": 139
        },
        {
          "output_type": "display_data",
          "data": {
            "image/png": "[encoded data removed]",
            "text/plain": [
              "<Figure size 864x720 with 2 Axes>"
            ]
          },
          "metadata": {
            "tags": [],
            "needs_background": "light"
          }
        }
      ]
    }
  ]
}